{
 "metadata": {
  "name": "",
  "signature": "sha256:aa893793f2091231f354aa9495d6e6e881aca01a306d46606b63e049a5b4d120"
 },
 "nbformat": 3,
 "nbformat_minor": 0,
 "worksheets": [
  {
   "cells": [
    {
     "cell_type": "code",
     "collapsed": false,
     "input": [
      "%matplotlib inline\n",
      "\n",
      "import pandas as pd\n",
      "import numpy as np\n",
      "from ggplot import *\n",
      "import warnings\n",
      "warnings.filterwarnings('ignore')"
     ],
     "language": "python",
     "metadata": {},
     "outputs": [],
     "prompt_number": 38
    },
    {
     "cell_type": "heading",
     "level": 3,
     "metadata": {},
     "source": [
      "Some prelims"
     ]
    },
    {
     "cell_type": "code",
     "collapsed": false,
     "input": [
      "# some basic stuff\n",
      "data = pd.DataFrame(data=[7, 8,5, 12])\n",
      "print 'Standard Deviation:' , data.std()\n",
      "\n",
      "print 'Index of Minimum value', data.idxmin()\n"
     ],
     "language": "python",
     "metadata": {},
     "outputs": [
      {
       "output_type": "stream",
       "stream": "stdout",
       "text": [
        "Standard Deviation: 0    2.94392\n",
        "dtype: float64\n",
        "Index of Minimum value 0    2\n",
        "dtype: int64\n"
       ]
      }
     ],
     "prompt_number": 12
    },
    {
     "cell_type": "heading",
     "level": 3,
     "metadata": {},
     "source": [
      "Load & View a summary of the data"
     ]
    },
    {
     "cell_type": "code",
     "collapsed": false,
     "input": [
      "CocaCola = pd.read_csv(\"..\\data\\CocaColaStock.csv\")\n",
      "CocaCola.describe()"
     ],
     "language": "python",
     "metadata": {},
     "outputs": [
      {
       "html": [
        "<div style=\"max-height:1000px;max-width:1500px;overflow:auto;\">\n",
        "<table border=\"1\" class=\"dataframe\">\n",
        "  <thead>\n",
        "    <tr style=\"text-align: right;\">\n",
        "      <th></th>\n",
        "      <th>StockPrice</th>\n",
        "    </tr>\n",
        "  </thead>\n",
        "  <tbody>\n",
        "    <tr>\n",
        "      <th>count</th>\n",
        "      <td> 480.000000</td>\n",
        "    </tr>\n",
        "    <tr>\n",
        "      <th>mean</th>\n",
        "      <td>  60.029730</td>\n",
        "    </tr>\n",
        "    <tr>\n",
        "      <th>std</th>\n",
        "      <td>  25.166291</td>\n",
        "    </tr>\n",
        "    <tr>\n",
        "      <th>min</th>\n",
        "      <td>  30.057143</td>\n",
        "    </tr>\n",
        "    <tr>\n",
        "      <th>25%</th>\n",
        "      <td>  42.755595</td>\n",
        "    </tr>\n",
        "    <tr>\n",
        "      <th>50%</th>\n",
        "      <td>  51.436988</td>\n",
        "    </tr>\n",
        "    <tr>\n",
        "      <th>75%</th>\n",
        "      <td>  69.617192</td>\n",
        "    </tr>\n",
        "    <tr>\n",
        "      <th>max</th>\n",
        "      <td> 146.584286</td>\n",
        "    </tr>\n",
        "  </tbody>\n",
        "</table>\n",
        "</div>"
       ],
       "metadata": {},
       "output_type": "pyout",
       "prompt_number": 14,
       "text": [
        "       StockPrice\n",
        "count  480.000000\n",
        "mean    60.029730\n",
        "std     25.166291\n",
        "min     30.057143\n",
        "25%     42.755595\n",
        "50%     51.436988\n",
        "75%     69.617192\n",
        "max    146.584286"
       ]
      }
     ],
     "prompt_number": 14
    },
    {
     "cell_type": "code",
     "collapsed": false,
     "input": [
      "CocaCola[:2]"
     ],
     "language": "python",
     "metadata": {},
     "outputs": [
      {
       "html": [
        "<div style=\"max-height:1000px;max-width:1500px;overflow:auto;\">\n",
        "<table border=\"1\" class=\"dataframe\">\n",
        "  <thead>\n",
        "    <tr style=\"text-align: right;\">\n",
        "      <th></th>\n",
        "      <th>Date</th>\n",
        "      <th>StockPrice</th>\n",
        "    </tr>\n",
        "  </thead>\n",
        "  <tbody>\n",
        "    <tr>\n",
        "      <th>0</th>\n",
        "      <td> 1/1/70</td>\n",
        "      <td> 83.368095</td>\n",
        "    </tr>\n",
        "    <tr>\n",
        "      <th>1</th>\n",
        "      <td> 2/1/70</td>\n",
        "      <td> 81.591053</td>\n",
        "    </tr>\n",
        "  </tbody>\n",
        "</table>\n",
        "</div>"
       ],
       "metadata": {},
       "output_type": "pyout",
       "prompt_number": 16,
       "text": [
        "     Date  StockPrice\n",
        "0  1/1/70   83.368095\n",
        "1  2/1/70   81.591053"
       ]
      }
     ],
     "prompt_number": 16
    },
    {
     "cell_type": "heading",
     "level": 3,
     "metadata": {},
     "source": [
      "Summary Statistics "
     ]
    },
    {
     "cell_type": "code",
     "collapsed": false,
     "input": [
      "WHO = pd.read_csv(\"..\\data\\WHO.csv\")\n",
      "WHO.columns"
     ],
     "language": "python",
     "metadata": {},
     "outputs": [
      {
       "metadata": {},
       "output_type": "pyout",
       "prompt_number": 21,
       "text": [
        "Index([u'Country', u'Region', u'Population', u'Under15', u'Over60', u'FertilityRate', u'LifeExpectancy', u'ChildMortality', u'CellularSubscribers', u'LiteracyRate', u'GNI', u'PrimarySchoolEnrollmentMale', u'PrimarySchoolEnrollmentFemale'], dtype='object')"
       ]
      }
     ],
     "prompt_number": 21
    },
    {
     "cell_type": "code",
     "collapsed": false,
     "input": [
      "WHO.describe().transpose()"
     ],
     "language": "python",
     "metadata": {},
     "outputs": [
      {
       "html": [
        "<div style=\"max-height:1000px;max-width:1500px;overflow:auto;\">\n",
        "<table border=\"1\" class=\"dataframe\">\n",
        "  <thead>\n",
        "    <tr style=\"text-align: right;\">\n",
        "      <th></th>\n",
        "      <th>count</th>\n",
        "      <th>mean</th>\n",
        "      <th>std</th>\n",
        "      <th>min</th>\n",
        "      <th>25%</th>\n",
        "      <th>50%</th>\n",
        "      <th>75%</th>\n",
        "      <th>max</th>\n",
        "    </tr>\n",
        "  </thead>\n",
        "  <tbody>\n",
        "    <tr>\n",
        "      <th>Population</th>\n",
        "      <td> 194</td>\n",
        "      <td> 36359.974227</td>\n",
        "      <td> 137903.141241</td>\n",
        "      <td>   1.00</td>\n",
        "      <td> 1695.7500</td>\n",
        "      <td> 7790.000</td>\n",
        "      <td> 24535.2500</td>\n",
        "      <td> 1390000.00</td>\n",
        "    </tr>\n",
        "    <tr>\n",
        "      <th>Under15</th>\n",
        "      <td> 194</td>\n",
        "      <td>    28.732423</td>\n",
        "      <td>     10.534573</td>\n",
        "      <td>  13.12</td>\n",
        "      <td>   18.7175</td>\n",
        "      <td>   28.650</td>\n",
        "      <td>    37.7525</td>\n",
        "      <td>      49.99</td>\n",
        "    </tr>\n",
        "    <tr>\n",
        "      <th>Over60</th>\n",
        "      <td> 194</td>\n",
        "      <td>    11.163660</td>\n",
        "      <td>      7.149331</td>\n",
        "      <td>   0.81</td>\n",
        "      <td>    5.2000</td>\n",
        "      <td>    8.530</td>\n",
        "      <td>    16.6875</td>\n",
        "      <td>      31.92</td>\n",
        "    </tr>\n",
        "    <tr>\n",
        "      <th>FertilityRate</th>\n",
        "      <td> 183</td>\n",
        "      <td>     2.940656</td>\n",
        "      <td>      1.480984</td>\n",
        "      <td>   1.26</td>\n",
        "      <td>    1.8350</td>\n",
        "      <td>    2.400</td>\n",
        "      <td>     3.9050</td>\n",
        "      <td>       7.58</td>\n",
        "    </tr>\n",
        "    <tr>\n",
        "      <th>LifeExpectancy</th>\n",
        "      <td> 194</td>\n",
        "      <td>    70.010309</td>\n",
        "      <td>      9.259075</td>\n",
        "      <td>  47.00</td>\n",
        "      <td>   64.0000</td>\n",
        "      <td>   72.500</td>\n",
        "      <td>    76.0000</td>\n",
        "      <td>      83.00</td>\n",
        "    </tr>\n",
        "    <tr>\n",
        "      <th>ChildMortality</th>\n",
        "      <td> 194</td>\n",
        "      <td>    36.148969</td>\n",
        "      <td>     37.992935</td>\n",
        "      <td>   2.20</td>\n",
        "      <td>    8.4250</td>\n",
        "      <td>   18.600</td>\n",
        "      <td>    55.9750</td>\n",
        "      <td>     181.60</td>\n",
        "    </tr>\n",
        "    <tr>\n",
        "      <th>CellularSubscribers</th>\n",
        "      <td> 184</td>\n",
        "      <td>    93.641522</td>\n",
        "      <td>     41.400447</td>\n",
        "      <td>   2.57</td>\n",
        "      <td>   63.5675</td>\n",
        "      <td>   97.745</td>\n",
        "      <td>   120.8050</td>\n",
        "      <td>     196.41</td>\n",
        "    </tr>\n",
        "    <tr>\n",
        "      <th>LiteracyRate</th>\n",
        "      <td> 103</td>\n",
        "      <td>    83.710680</td>\n",
        "      <td>     17.530645</td>\n",
        "      <td>  31.10</td>\n",
        "      <td>   71.6000</td>\n",
        "      <td>   91.800</td>\n",
        "      <td>    97.8500</td>\n",
        "      <td>      99.80</td>\n",
        "    </tr>\n",
        "    <tr>\n",
        "      <th>GNI</th>\n",
        "      <td> 162</td>\n",
        "      <td> 13320.925926</td>\n",
        "      <td>  15192.988650</td>\n",
        "      <td> 340.00</td>\n",
        "      <td> 2335.0000</td>\n",
        "      <td> 7870.000</td>\n",
        "      <td> 17557.5000</td>\n",
        "      <td>   86440.00</td>\n",
        "    </tr>\n",
        "    <tr>\n",
        "      <th>PrimarySchoolEnrollmentMale</th>\n",
        "      <td> 101</td>\n",
        "      <td>    90.850495</td>\n",
        "      <td>     11.017147</td>\n",
        "      <td>  37.20</td>\n",
        "      <td>   87.7000</td>\n",
        "      <td>   94.700</td>\n",
        "      <td>    98.1000</td>\n",
        "      <td>     100.00</td>\n",
        "    </tr>\n",
        "    <tr>\n",
        "      <th>PrimarySchoolEnrollmentFemale</th>\n",
        "      <td> 101</td>\n",
        "      <td>    89.632673</td>\n",
        "      <td>     12.817614</td>\n",
        "      <td>  32.50</td>\n",
        "      <td>   87.3000</td>\n",
        "      <td>   95.100</td>\n",
        "      <td>    97.9000</td>\n",
        "      <td>     100.00</td>\n",
        "    </tr>\n",
        "  </tbody>\n",
        "</table>\n",
        "</div>"
       ],
       "metadata": {},
       "output_type": "pyout",
       "prompt_number": 22,
       "text": [
        "                               count          mean            std     min  \\\n",
        "Population                       194  36359.974227  137903.141241    1.00   \n",
        "Under15                          194     28.732423      10.534573   13.12   \n",
        "Over60                           194     11.163660       7.149331    0.81   \n",
        "FertilityRate                    183      2.940656       1.480984    1.26   \n",
        "LifeExpectancy                   194     70.010309       9.259075   47.00   \n",
        "ChildMortality                   194     36.148969      37.992935    2.20   \n",
        "CellularSubscribers              184     93.641522      41.400447    2.57   \n",
        "LiteracyRate                     103     83.710680      17.530645   31.10   \n",
        "GNI                              162  13320.925926   15192.988650  340.00   \n",
        "PrimarySchoolEnrollmentMale      101     90.850495      11.017147   37.20   \n",
        "PrimarySchoolEnrollmentFemale    101     89.632673      12.817614   32.50   \n",
        "\n",
        "                                     25%       50%         75%         max  \n",
        "Population                     1695.7500  7790.000  24535.2500  1390000.00  \n",
        "Under15                          18.7175    28.650     37.7525       49.99  \n",
        "Over60                            5.2000     8.530     16.6875       31.92  \n",
        "FertilityRate                     1.8350     2.400      3.9050        7.58  \n",
        "LifeExpectancy                   64.0000    72.500     76.0000       83.00  \n",
        "ChildMortality                    8.4250    18.600     55.9750      181.60  \n",
        "CellularSubscribers              63.5675    97.745    120.8050      196.41  \n",
        "LiteracyRate                     71.6000    91.800     97.8500       99.80  \n",
        "GNI                            2335.0000  7870.000  17557.5000    86440.00  \n",
        "PrimarySchoolEnrollmentMale      87.7000    94.700     98.1000      100.00  \n",
        "PrimarySchoolEnrollmentFemale    87.3000    95.100     97.9000      100.00  "
       ]
      }
     ],
     "prompt_number": 22
    },
    {
     "cell_type": "heading",
     "level": 3,
     "metadata": {},
     "source": [
      "Which country has smallest % of population over 60 ?"
     ]
    },
    {
     "cell_type": "code",
     "collapsed": false,
     "input": [
      "WHO.sort([\"Over60\"], inplace=True)\n",
      "WHO[[\"Country\",\"Over60\"]].head()"
     ],
     "language": "python",
     "metadata": {},
     "outputs": [
      {
       "html": [
        "<div style=\"max-height:1000px;max-width:1500px;overflow:auto;\">\n",
        "<table border=\"1\" class=\"dataframe\">\n",
        "  <thead>\n",
        "    <tr style=\"text-align: right;\">\n",
        "      <th></th>\n",
        "      <th>Country</th>\n",
        "      <th>Over60</th>\n",
        "    </tr>\n",
        "  </thead>\n",
        "  <tbody>\n",
        "    <tr>\n",
        "      <th>182</th>\n",
        "      <td> United Arab Emirates</td>\n",
        "      <td> 0.81</td>\n",
        "    </tr>\n",
        "    <tr>\n",
        "      <th>137</th>\n",
        "      <td>                Qatar</td>\n",
        "      <td> 1.73</td>\n",
        "    </tr>\n",
        "    <tr>\n",
        "      <th>12 </th>\n",
        "      <td>              Bahrain</td>\n",
        "      <td> 3.38</td>\n",
        "    </tr>\n",
        "    <tr>\n",
        "      <th>180</th>\n",
        "      <td>               Uganda</td>\n",
        "      <td> 3.72</td>\n",
        "    </tr>\n",
        "    <tr>\n",
        "      <th>63 </th>\n",
        "      <td>               Gambia</td>\n",
        "      <td> 3.72</td>\n",
        "    </tr>\n",
        "  </tbody>\n",
        "</table>\n",
        "</div>"
       ],
       "metadata": {},
       "output_type": "pyout",
       "prompt_number": 28,
       "text": [
        "                  Country  Over60\n",
        "182  United Arab Emirates    0.81\n",
        "137                 Qatar    1.73\n",
        "12                Bahrain    3.38\n",
        "180                Uganda    3.72\n",
        "63                 Gambia    3.72"
       ]
      }
     ],
     "prompt_number": 28
    },
    {
     "cell_type": "heading",
     "level": 3,
     "metadata": {},
     "source": [
      "Which country has the largest literacy rate?"
     ]
    },
    {
     "cell_type": "code",
     "collapsed": false,
     "input": [
      "WHO.sort([\"LiteracyRate\"], ascending=False, inplace=True)\n",
      "WHO[[\"Country\",\"LiteracyRate\"]].head()"
     ],
     "language": "python",
     "metadata": {},
     "outputs": [
      {
       "html": [
        "<div style=\"max-height:1000px;max-width:1500px;overflow:auto;\">\n",
        "<table border=\"1\" class=\"dataframe\">\n",
        "  <thead>\n",
        "    <tr style=\"text-align: right;\">\n",
        "      <th></th>\n",
        "      <th>Country</th>\n",
        "      <th>LiteracyRate</th>\n",
        "    </tr>\n",
        "  </thead>\n",
        "  <tbody>\n",
        "    <tr>\n",
        "      <th>93</th>\n",
        "      <td>     Latvia</td>\n",
        "      <td> 99.8</td>\n",
        "    </tr>\n",
        "    <tr>\n",
        "      <th>57</th>\n",
        "      <td>    Estonia</td>\n",
        "      <td> 99.8</td>\n",
        "    </tr>\n",
        "    <tr>\n",
        "      <th>43</th>\n",
        "      <td>       Cuba</td>\n",
        "      <td> 99.8</td>\n",
        "    </tr>\n",
        "    <tr>\n",
        "      <th>98</th>\n",
        "      <td>  Lithuania</td>\n",
        "      <td> 99.7</td>\n",
        "    </tr>\n",
        "    <tr>\n",
        "      <th>87</th>\n",
        "      <td> Kazakhstan</td>\n",
        "      <td> 99.7</td>\n",
        "    </tr>\n",
        "  </tbody>\n",
        "</table>\n",
        "</div>"
       ],
       "metadata": {},
       "output_type": "pyout",
       "prompt_number": 29,
       "text": [
        "       Country  LiteracyRate\n",
        "93      Latvia          99.8\n",
        "57     Estonia          99.8\n",
        "43        Cuba          99.8\n",
        "98   Lithuania          99.7\n",
        "87  Kazakhstan          99.7"
       ]
      }
     ],
     "prompt_number": 29
    },
    {
     "cell_type": "heading",
     "level": 3,
     "metadata": {},
     "source": [
      "Scatterplot of GNI vs Fertility Rate"
     ]
    },
    {
     "cell_type": "code",
     "collapsed": false,
     "input": [
      "ggplot(WHO, aes('GNI', 'FertilityRate')) + \\\n",
      "    geom_point()"
     ],
     "language": "python",
     "metadata": {},
     "outputs": [
      {
       "metadata": {},
       "output_type": "display_data",
       "png": "[encoded data removed]",
       "text": [
        "<matplotlib.figure.Figure at 0x1bbbeb00>"
       ]
      },
      {
       "metadata": {},
       "output_type": "pyout",
       "prompt_number": 34,
       "text": [
        "<ggplot: (29081281)>"
       ]
      }
     ],
     "prompt_number": 34
    },
    {
     "cell_type": "heading",
     "level": 3,
     "metadata": {},
     "source": [
      "Histograms"
     ]
    },
    {
     "cell_type": "code",
     "collapsed": false,
     "input": [
      "ggplot(WHO, aes(x='CellularSubscribers')) + \\\n",
      "    geom_histogram()"
     ],
     "language": "python",
     "metadata": {},
     "outputs": [
      {
       "metadata": {},
       "output_type": "display_data",
       "png": "[encoded data removed]",
       "text": [
        "<matplotlib.figure.Figure at 0x1bc06fd0>"
       ]
      },
      {
       "metadata": {},
       "output_type": "pyout",
       "prompt_number": 39,
       "text": [
        "<ggplot: (29103939)>"
       ]
      }
     ],
     "prompt_number": 39
    },
    {
     "cell_type": "heading",
     "level": 3,
     "metadata": {},
     "source": [
      "Boxplots"
     ]
    },
    {
     "cell_type": "code",
     "collapsed": false,
     "input": [
      "WHO.boxplot(column=[\"LifeExpectancy\"], by=[\"Region\"])"
     ],
     "language": "python",
     "metadata": {},
     "outputs": [
      {
       "metadata": {},
       "output_type": "pyout",
       "prompt_number": 44,
       "text": [
        "<matplotlib.axes._subplots.AxesSubplot at 0x1ef3c518>"
       ]
      },
      {
       "metadata": {},
       "output_type": "display_data",
       "png": "[encoded data removed]",
       "text": [
        "<matplotlib.figure.Figure at 0x1ef3ca20>"
       ]
      }
     ],
     "prompt_number": 44
    },
    {
     "cell_type": "heading",
     "level": 3,
     "metadata": {},
     "source": [
      "Which region has the lowest average child mortality rate across all countries in that region ?"
     ]
    },
    {
     "cell_type": "code",
     "collapsed": false,
     "input": [
      "child_mortality = WHO[[\"Region\",\"ChildMortality\"]]"
     ],
     "language": "python",
     "metadata": {},
     "outputs": [],
     "prompt_number": 50
    },
    {
     "cell_type": "code",
     "collapsed": false,
     "input": [
      "child_mortality_by_region = child_mortality.groupby(\"Region\").aggregate(np.mean)\n",
      "child_mortality_by_region"
     ],
     "language": "python",
     "metadata": {},
     "outputs": [
      {
       "html": [
        "<div style=\"max-height:1000px;max-width:1500px;overflow:auto;\">\n",
        "<table border=\"1\" class=\"dataframe\">\n",
        "  <thead>\n",
        "    <tr style=\"text-align: right;\">\n",
        "      <th></th>\n",
        "      <th>ChildMortality</th>\n",
        "    </tr>\n",
        "    <tr>\n",
        "      <th>Region</th>\n",
        "      <th></th>\n",
        "    </tr>\n",
        "  </thead>\n",
        "  <tbody>\n",
        "    <tr>\n",
        "      <th>Africa</th>\n",
        "      <td> 84.036957</td>\n",
        "    </tr>\n",
        "    <tr>\n",
        "      <th>Americas</th>\n",
        "      <td> 19.322857</td>\n",
        "    </tr>\n",
        "    <tr>\n",
        "      <th>Eastern Mediterranean</th>\n",
        "      <td> 40.250000</td>\n",
        "    </tr>\n",
        "    <tr>\n",
        "      <th>Europe</th>\n",
        "      <td> 10.050943</td>\n",
        "    </tr>\n",
        "    <tr>\n",
        "      <th>South-East Asia</th>\n",
        "      <td> 35.045455</td>\n",
        "    </tr>\n",
        "    <tr>\n",
        "      <th>Western Pacific</th>\n",
        "      <td> 24.711111</td>\n",
        "    </tr>\n",
        "  </tbody>\n",
        "</table>\n",
        "</div>"
       ],
       "metadata": {},
       "output_type": "pyout",
       "prompt_number": 51,
       "text": [
        "                       ChildMortality\n",
        "Region                               \n",
        "Africa                      84.036957\n",
        "Americas                    19.322857\n",
        "Eastern Mediterranean       40.250000\n",
        "Europe                      10.050943\n",
        "South-East Asia             35.045455\n",
        "Western Pacific             24.711111"
       ]
      }
     ],
     "prompt_number": 51
    }
   ],
   "metadata": {}
  }
 ]
}