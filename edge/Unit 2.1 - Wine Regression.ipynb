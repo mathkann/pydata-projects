{
 "metadata": {
  "name": "",
  "signature": "sha256:d79efb271313c6295fae3b4c1f8f43b8909dda4c92ae2ffae1c6a10c3562c889"
 },
 "nbformat": 3,
 "nbformat_minor": 0,
 "worksheets": [
  {
   "cells": [
    {
     "cell_type": "code",
     "collapsed": false,
     "input": [
      "%matplotlib inline\n",
      "import pandas as pd\n",
      "import numpy as np\n",
      "import matplotlib.pyplot as plt\n",
      "import statsmodels.api as sm\n",
      "import os\n",
      "\n",
      "# data folder path\n",
      "data_folder = '..' + os.sep + 'data' + os.sep"
     ],
     "language": "python",
     "metadata": {},
     "outputs": [],
     "prompt_number": 6
    },
    {
     "cell_type": "heading",
     "level": 2,
     "metadata": {},
     "source": [
      "Read in the data"
     ]
    },
    {
     "cell_type": "code",
     "collapsed": false,
     "input": [
      "wine = pd.read_csv(data_folder + 'wine.csv')\n",
      "wine.describe().transpose()"
     ],
     "language": "python",
     "metadata": {},
     "outputs": [
      {
       "html": [
        "<div style=\"max-height:1000px;max-width:1500px;overflow:auto;\">\n",
        "<table border=\"1\" class=\"dataframe\">\n",
        "  <thead>\n",
        "    <tr style=\"text-align: right;\">\n",
        "      <th></th>\n",
        "      <th>count</th>\n",
        "      <th>mean</th>\n",
        "      <th>std</th>\n",
        "      <th>min</th>\n",
        "      <th>25%</th>\n",
        "      <th>50%</th>\n",
        "      <th>75%</th>\n",
        "      <th>max</th>\n",
        "    </tr>\n",
        "  </thead>\n",
        "  <tbody>\n",
        "    <tr>\n",
        "      <th>Year</th>\n",
        "      <td> 25</td>\n",
        "      <td>  1965.800000</td>\n",
        "      <td>    7.691987</td>\n",
        "      <td>  1952.0000</td>\n",
        "      <td>  1960.0000</td>\n",
        "      <td>  1966.0000</td>\n",
        "      <td>  1972.0000</td>\n",
        "      <td>  1978.0000</td>\n",
        "    </tr>\n",
        "    <tr>\n",
        "      <th>Price</th>\n",
        "      <td> 25</td>\n",
        "      <td>     7.067224</td>\n",
        "      <td>    0.650341</td>\n",
        "      <td>     6.2049</td>\n",
        "      <td>     6.5188</td>\n",
        "      <td>     7.1211</td>\n",
        "      <td>     7.4950</td>\n",
        "      <td>     8.4937</td>\n",
        "    </tr>\n",
        "    <tr>\n",
        "      <th>WinterRain</th>\n",
        "      <td> 25</td>\n",
        "      <td>   605.280000</td>\n",
        "      <td>  132.277965</td>\n",
        "      <td>   376.0000</td>\n",
        "      <td>   536.0000</td>\n",
        "      <td>   600.0000</td>\n",
        "      <td>   697.0000</td>\n",
        "      <td>   830.0000</td>\n",
        "    </tr>\n",
        "    <tr>\n",
        "      <th>AGST</th>\n",
        "      <td> 25</td>\n",
        "      <td>    16.509336</td>\n",
        "      <td>    0.675397</td>\n",
        "      <td>    14.9833</td>\n",
        "      <td>    16.2000</td>\n",
        "      <td>    16.5333</td>\n",
        "      <td>    17.0667</td>\n",
        "      <td>    17.6500</td>\n",
        "    </tr>\n",
        "    <tr>\n",
        "      <th>HarvestRain</th>\n",
        "      <td> 25</td>\n",
        "      <td>   148.560000</td>\n",
        "      <td>   74.419464</td>\n",
        "      <td>    38.0000</td>\n",
        "      <td>    89.0000</td>\n",
        "      <td>   130.0000</td>\n",
        "      <td>   187.0000</td>\n",
        "      <td>   292.0000</td>\n",
        "    </tr>\n",
        "    <tr>\n",
        "      <th>Age</th>\n",
        "      <td> 25</td>\n",
        "      <td>    17.200000</td>\n",
        "      <td>    7.691987</td>\n",
        "      <td>     5.0000</td>\n",
        "      <td>    11.0000</td>\n",
        "      <td>    17.0000</td>\n",
        "      <td>    23.0000</td>\n",
        "      <td>    31.0000</td>\n",
        "    </tr>\n",
        "    <tr>\n",
        "      <th>FrancePop</th>\n",
        "      <td> 25</td>\n",
        "      <td> 49694.436760</td>\n",
        "      <td> 3665.270243</td>\n",
        "      <td> 43183.5690</td>\n",
        "      <td> 46583.9950</td>\n",
        "      <td> 50254.9660</td>\n",
        "      <td> 52894.1830</td>\n",
        "      <td> 54602.1930</td>\n",
        "    </tr>\n",
        "  </tbody>\n",
        "</table>\n",
        "</div>"
       ],
       "metadata": {},
       "output_type": "pyout",
       "prompt_number": 3,
       "text": [
        "             count          mean          std         min         25%  \\\n",
        "Year            25   1965.800000     7.691987   1952.0000   1960.0000   \n",
        "Price           25      7.067224     0.650341      6.2049      6.5188   \n",
        "WinterRain      25    605.280000   132.277965    376.0000    536.0000   \n",
        "AGST            25     16.509336     0.675397     14.9833     16.2000   \n",
        "HarvestRain     25    148.560000    74.419464     38.0000     89.0000   \n",
        "Age             25     17.200000     7.691987      5.0000     11.0000   \n",
        "FrancePop       25  49694.436760  3665.270243  43183.5690  46583.9950   \n",
        "\n",
        "                    50%         75%         max  \n",
        "Year          1966.0000   1972.0000   1978.0000  \n",
        "Price            7.1211      7.4950      8.4937  \n",
        "WinterRain     600.0000    697.0000    830.0000  \n",
        "AGST            16.5333     17.0667     17.6500  \n",
        "HarvestRain    130.0000    187.0000    292.0000  \n",
        "Age             17.0000     23.0000     31.0000  \n",
        "FrancePop    50254.9660  52894.1830  54602.1930  "
       ]
      }
     ],
     "prompt_number": 3
    },
    {
     "cell_type": "code",
     "collapsed": false,
     "input": [
      "wine.head()"
     ],
     "language": "python",
     "metadata": {},
     "outputs": [
      {
       "html": [
        "<div style=\"max-height:1000px;max-width:1500px;overflow:auto;\">\n",
        "<table border=\"1\" class=\"dataframe\">\n",
        "  <thead>\n",
        "    <tr style=\"text-align: right;\">\n",
        "      <th></th>\n",
        "      <th>Year</th>\n",
        "      <th>Price</th>\n",
        "      <th>WinterRain</th>\n",
        "      <th>AGST</th>\n",
        "      <th>HarvestRain</th>\n",
        "      <th>Age</th>\n",
        "      <th>FrancePop</th>\n",
        "    </tr>\n",
        "  </thead>\n",
        "  <tbody>\n",
        "    <tr>\n",
        "      <th>0</th>\n",
        "      <td> 1952</td>\n",
        "      <td> 7.4950</td>\n",
        "      <td> 600</td>\n",
        "      <td> 17.1167</td>\n",
        "      <td> 160</td>\n",
        "      <td> 31</td>\n",
        "      <td> 43183.569</td>\n",
        "    </tr>\n",
        "    <tr>\n",
        "      <th>1</th>\n",
        "      <td> 1953</td>\n",
        "      <td> 8.0393</td>\n",
        "      <td> 690</td>\n",
        "      <td> 16.7333</td>\n",
        "      <td>  80</td>\n",
        "      <td> 30</td>\n",
        "      <td> 43495.030</td>\n",
        "    </tr>\n",
        "    <tr>\n",
        "      <th>2</th>\n",
        "      <td> 1955</td>\n",
        "      <td> 7.6858</td>\n",
        "      <td> 502</td>\n",
        "      <td> 17.1500</td>\n",
        "      <td> 130</td>\n",
        "      <td> 28</td>\n",
        "      <td> 44217.857</td>\n",
        "    </tr>\n",
        "    <tr>\n",
        "      <th>3</th>\n",
        "      <td> 1957</td>\n",
        "      <td> 6.9845</td>\n",
        "      <td> 420</td>\n",
        "      <td> 16.1333</td>\n",
        "      <td> 110</td>\n",
        "      <td> 26</td>\n",
        "      <td> 45152.252</td>\n",
        "    </tr>\n",
        "    <tr>\n",
        "      <th>4</th>\n",
        "      <td> 1958</td>\n",
        "      <td> 6.7772</td>\n",
        "      <td> 582</td>\n",
        "      <td> 16.4167</td>\n",
        "      <td> 187</td>\n",
        "      <td> 25</td>\n",
        "      <td> 45653.805</td>\n",
        "    </tr>\n",
        "  </tbody>\n",
        "</table>\n",
        "</div>"
       ],
       "metadata": {},
       "output_type": "pyout",
       "prompt_number": 7,
       "text": [
        "   Year   Price  WinterRain     AGST  HarvestRain  Age  FrancePop\n",
        "0  1952  7.4950         600  17.1167          160   31  43183.569\n",
        "1  1953  8.0393         690  16.7333           80   30  43495.030\n",
        "2  1955  7.6858         502  17.1500          130   28  44217.857\n",
        "3  1957  6.9845         420  16.1333          110   26  45152.252\n",
        "4  1958  6.7772         582  16.4167          187   25  45653.805"
       ]
      }
     ],
     "prompt_number": 7
    },
    {
     "cell_type": "heading",
     "level": 2,
     "metadata": {},
     "source": [
      "Linear Regression - one variable"
     ]
    },
    {
     "cell_type": "heading",
     "level": 3,
     "metadata": {},
     "source": [
      "Preparing the data"
     ]
    },
    {
     "cell_type": "code",
     "collapsed": false,
     "input": [
      "# Preparing the data\n",
      "# Price as dependent variable (Response) & AGST as independent variable (Predictor)\n",
      "\n",
      "y = wine['Price'] # Response\n",
      "\n",
      "X = wine['AGST']  # Predictor\n",
      "X = sm.add_constant(X) # add constant for the intercept\n",
      "\n",
      "X.head()"
     ],
     "language": "python",
     "metadata": {},
     "outputs": [
      {
       "html": [
        "<div style=\"max-height:1000px;max-width:1500px;overflow:auto;\">\n",
        "<table border=\"1\" class=\"dataframe\">\n",
        "  <thead>\n",
        "    <tr style=\"text-align: right;\">\n",
        "      <th></th>\n",
        "      <th>const</th>\n",
        "      <th>AGST</th>\n",
        "    </tr>\n",
        "  </thead>\n",
        "  <tbody>\n",
        "    <tr>\n",
        "      <th>0</th>\n",
        "      <td> 1</td>\n",
        "      <td> 17.1167</td>\n",
        "    </tr>\n",
        "    <tr>\n",
        "      <th>1</th>\n",
        "      <td> 1</td>\n",
        "      <td> 16.7333</td>\n",
        "    </tr>\n",
        "    <tr>\n",
        "      <th>2</th>\n",
        "      <td> 1</td>\n",
        "      <td> 17.1500</td>\n",
        "    </tr>\n",
        "    <tr>\n",
        "      <th>3</th>\n",
        "      <td> 1</td>\n",
        "      <td> 16.1333</td>\n",
        "    </tr>\n",
        "    <tr>\n",
        "      <th>4</th>\n",
        "      <td> 1</td>\n",
        "      <td> 16.4167</td>\n",
        "    </tr>\n",
        "  </tbody>\n",
        "</table>\n",
        "</div>"
       ],
       "metadata": {},
       "output_type": "pyout",
       "prompt_number": 9,
       "text": [
        "   const     AGST\n",
        "0      1  17.1167\n",
        "1      1  16.7333\n",
        "2      1  17.1500\n",
        "3      1  16.1333\n",
        "4      1  16.4167"
       ]
      }
     ],
     "prompt_number": 9
    },
    {
     "cell_type": "heading",
     "level": 3,
     "metadata": {},
     "source": [
      "Fit the model"
     ]
    },
    {
     "cell_type": "code",
     "collapsed": false,
     "input": [
      "est = sm.OLS(y,X)\n",
      "est = est.fit()\n",
      "est.summary()"
     ],
     "language": "python",
     "metadata": {},
     "outputs": [
      {
       "html": [
        "<table class=\"simpletable\">\n",
        "<caption>OLS Regression Results</caption>\n",
        "<tr>\n",
        "  <th>Dep. Variable:</th>          <td>Price</td>      <th>  R-squared:         </th> <td>   0.435</td>\n",
        "</tr>\n",
        "<tr>\n",
        "  <th>Model:</th>                   <td>OLS</td>       <th>  Adj. R-squared:    </th> <td>   0.410</td>\n",
        "</tr>\n",
        "<tr>\n",
        "  <th>Method:</th>             <td>Least Squares</td>  <th>  F-statistic:       </th> <td>   17.71</td>\n",
        "</tr>\n",
        "<tr>\n",
        "  <th>Date:</th>             <td>Wed, 18 Mar 2015</td> <th>  Prob (F-statistic):</th> <td>0.000335</td>\n",
        "</tr>\n",
        "<tr>\n",
        "  <th>Time:</th>                 <td>12:39:01</td>     <th>  Log-Likelihood:    </th> <td> -17.070</td>\n",
        "</tr>\n",
        "<tr>\n",
        "  <th>No. Observations:</th>      <td>    25</td>      <th>  AIC:               </th> <td>   38.14</td>\n",
        "</tr>\n",
        "<tr>\n",
        "  <th>Df Residuals:</th>          <td>    23</td>      <th>  BIC:               </th> <td>   40.58</td>\n",
        "</tr>\n",
        "<tr>\n",
        "  <th>Df Model:</th>              <td>     1</td>      <th>                     </th>     <td> </td>   \n",
        "</tr>\n",
        "</table>\n",
        "<table class=\"simpletable\">\n",
        "<tr>\n",
        "    <td></td>       <th>coef</th>     <th>std err</th>      <th>t</th>      <th>P>|t|</th> <th>[95.0% Conf. Int.]</th> \n",
        "</tr>\n",
        "<tr>\n",
        "  <th>const</th> <td>   -3.4178</td> <td>    2.494</td> <td>   -1.371</td> <td> 0.184</td> <td>   -8.576     1.740</td>\n",
        "</tr>\n",
        "<tr>\n",
        "  <th>AGST</th>  <td>    0.6351</td> <td>    0.151</td> <td>    4.208</td> <td> 0.000</td> <td>    0.323     0.947</td>\n",
        "</tr>\n",
        "</table>\n",
        "<table class=\"simpletable\">\n",
        "<tr>\n",
        "  <th>Omnibus:</th>       <td> 0.986</td> <th>  Durbin-Watson:     </th> <td>   1.758</td>\n",
        "</tr>\n",
        "<tr>\n",
        "  <th>Prob(Omnibus):</th> <td> 0.611</td> <th>  Jarque-Bera (JB):  </th> <td>   0.790</td>\n",
        "</tr>\n",
        "<tr>\n",
        "  <th>Skew:</th>          <td> 0.055</td> <th>  Prob(JB):          </th> <td>   0.674</td>\n",
        "</tr>\n",
        "<tr>\n",
        "  <th>Kurtosis:</th>      <td> 2.136</td> <th>  Cond. No.          </th> <td>    414.</td>\n",
        "</tr>\n",
        "</table>"
       ],
       "metadata": {},
       "output_type": "pyout",
       "prompt_number": 11,
       "text": [
        "<class 'statsmodels.iolib.summary.Summary'>\n",
        "\"\"\"\n",
        "                            OLS Regression Results                            \n",
        "==============================================================================\n",
        "Dep. Variable:                  Price   R-squared:                       0.435\n",
        "Model:                            OLS   Adj. R-squared:                  0.410\n",
        "Method:                 Least Squares   F-statistic:                     17.71\n",
        "Date:                Wed, 18 Mar 2015   Prob (F-statistic):           0.000335\n",
        "Time:                        12:39:01   Log-Likelihood:                -17.070\n",
        "No. Observations:                  25   AIC:                             38.14\n",
        "Df Residuals:                      23   BIC:                             40.58\n",
        "Df Model:                           1                                         \n",
        "==============================================================================\n",
        "                 coef    std err          t      P>|t|      [95.0% Conf. Int.]\n",
        "------------------------------------------------------------------------------\n",
        "const         -3.4178      2.494     -1.371      0.184        -8.576     1.740\n",
        "AGST           0.6351      0.151      4.208      0.000         0.323     0.947\n",
        "==============================================================================\n",
        "Omnibus:                        0.986   Durbin-Watson:                   1.758\n",
        "Prob(Omnibus):                  0.611   Jarque-Bera (JB):                0.790\n",
        "Skew:                           0.055   Prob(JB):                        0.674\n",
        "Kurtosis:                       2.136   Cond. No.                         414.\n",
        "==============================================================================\n",
        "\"\"\""
       ]
      }
     ],
     "prompt_number": 11
    },
    {
     "cell_type": "code",
     "collapsed": false,
     "input": [
      "# View the co-efficients \n",
      "est.params"
     ],
     "language": "python",
     "metadata": {},
     "outputs": [
      {
       "metadata": {},
       "output_type": "pyout",
       "prompt_number": 14,
       "text": [
        "const   -3.417761\n",
        "AGST     0.635094\n",
        "dtype: float64"
       ]
      }
     ],
     "prompt_number": 14
    },
    {
     "cell_type": "code",
     "collapsed": false,
     "input": [
      "# the residuals\n",
      "est.resid"
     ],
     "language": "python",
     "metadata": {},
     "outputs": [
      {
       "metadata": {},
       "output_type": "pyout",
       "prompt_number": 15,
       "text": [
        "0     0.042043\n",
        "1     0.829838\n",
        "2     0.211694\n",
        "3     0.156094\n",
        "4    -0.231191\n",
        "5     0.389917\n",
        "6    -0.489591\n",
        "7     0.903181\n",
        "8     0.453724\n",
        "9     0.148875\n",
        "10   -0.238822\n",
        "11   -0.089742\n",
        "12    0.661857\n",
        "13   -0.052115\n",
        "14   -0.627266\n",
        "15   -0.747149\n",
        "16    0.421135\n",
        "17   -0.037274\n",
        "18    0.106853\n",
        "19   -0.784503\n",
        "20   -0.640176\n",
        "21   -0.055087\n",
        "22   -0.670553\n",
        "23   -0.220404\n",
        "24    0.558665\n",
        "dtype: float64"
       ]
      }
     ],
     "prompt_number": 15
    },
    {
     "cell_type": "code",
     "collapsed": false,
     "input": [
      "# Calculating Sum of Squared Errors (SSE)\n",
      "print 'SSE: ', sum(est.resid ** 2)"
     ],
     "language": "python",
     "metadata": {},
     "outputs": [
      {
       "output_type": "stream",
       "stream": "stdout",
       "text": [
        "SSE:  5.73487514702\n"
       ]
      }
     ],
     "prompt_number": 18
    },
    {
     "cell_type": "heading",
     "level": 2,
     "metadata": {},
     "source": [
      "Linear Regression (All variables)"
     ]
    },
    {
     "cell_type": "code",
     "collapsed": false,
     "input": [
      "y = wine['Price'] # Response\n",
      "\n",
      "X = wine[['AGST','HarvestRain' , 'WinterRain' , 'Age' , 'FrancePop']]  # Predictor\n",
      "X = sm.add_constant(X) # add constant for the intercept\n",
      "\n",
      "X.head()"
     ],
     "language": "python",
     "metadata": {},
     "outputs": [
      {
       "html": [
        "<div style=\"max-height:1000px;max-width:1500px;overflow:auto;\">\n",
        "<table border=\"1\" class=\"dataframe\">\n",
        "  <thead>\n",
        "    <tr style=\"text-align: right;\">\n",
        "      <th></th>\n",
        "      <th>const</th>\n",
        "      <th>AGST</th>\n",
        "      <th>HarvestRain</th>\n",
        "      <th>WinterRain</th>\n",
        "      <th>Age</th>\n",
        "      <th>FrancePop</th>\n",
        "    </tr>\n",
        "  </thead>\n",
        "  <tbody>\n",
        "    <tr>\n",
        "      <th>0</th>\n",
        "      <td> 1</td>\n",
        "      <td> 17.1167</td>\n",
        "      <td> 160</td>\n",
        "      <td> 600</td>\n",
        "      <td> 31</td>\n",
        "      <td> 43183.569</td>\n",
        "    </tr>\n",
        "    <tr>\n",
        "      <th>1</th>\n",
        "      <td> 1</td>\n",
        "      <td> 16.7333</td>\n",
        "      <td>  80</td>\n",
        "      <td> 690</td>\n",
        "      <td> 30</td>\n",
        "      <td> 43495.030</td>\n",
        "    </tr>\n",
        "    <tr>\n",
        "      <th>2</th>\n",
        "      <td> 1</td>\n",
        "      <td> 17.1500</td>\n",
        "      <td> 130</td>\n",
        "      <td> 502</td>\n",
        "      <td> 28</td>\n",
        "      <td> 44217.857</td>\n",
        "    </tr>\n",
        "    <tr>\n",
        "      <th>3</th>\n",
        "      <td> 1</td>\n",
        "      <td> 16.1333</td>\n",
        "      <td> 110</td>\n",
        "      <td> 420</td>\n",
        "      <td> 26</td>\n",
        "      <td> 45152.252</td>\n",
        "    </tr>\n",
        "    <tr>\n",
        "      <th>4</th>\n",
        "      <td> 1</td>\n",
        "      <td> 16.4167</td>\n",
        "      <td> 187</td>\n",
        "      <td> 582</td>\n",
        "      <td> 25</td>\n",
        "      <td> 45653.805</td>\n",
        "    </tr>\n",
        "  </tbody>\n",
        "</table>\n",
        "</div>"
       ],
       "metadata": {},
       "output_type": "pyout",
       "prompt_number": 19,
       "text": [
        "   const     AGST  HarvestRain  WinterRain  Age  FrancePop\n",
        "0      1  17.1167          160         600   31  43183.569\n",
        "1      1  16.7333           80         690   30  43495.030\n",
        "2      1  17.1500          130         502   28  44217.857\n",
        "3      1  16.1333          110         420   26  45152.252\n",
        "4      1  16.4167          187         582   25  45653.805"
       ]
      }
     ],
     "prompt_number": 19
    },
    {
     "cell_type": "code",
     "collapsed": false,
     "input": [
      "est = sm.OLS(y, X)\n",
      "est = est.fit()\n",
      "est.params"
     ],
     "language": "python",
     "metadata": {},
     "outputs": [
      {
       "metadata": {},
       "output_type": "pyout",
       "prompt_number": 20,
       "text": [
        "const         -0.450399\n",
        "AGST           0.601224\n",
        "HarvestRain   -0.003958\n",
        "WinterRain     0.001043\n",
        "Age            0.000585\n",
        "FrancePop     -0.000050\n",
        "dtype: float64"
       ]
      }
     ],
     "prompt_number": 20
    },
    {
     "cell_type": "code",
     "collapsed": false,
     "input": [
      "est.summary()"
     ],
     "language": "python",
     "metadata": {},
     "outputs": [
      {
       "html": [
        "<table class=\"simpletable\">\n",
        "<caption>OLS Regression Results</caption>\n",
        "<tr>\n",
        "  <th>Dep. Variable:</th>          <td>Price</td>      <th>  R-squared:         </th> <td>   0.829</td>\n",
        "</tr>\n",
        "<tr>\n",
        "  <th>Model:</th>                   <td>OLS</td>       <th>  Adj. R-squared:    </th> <td>   0.784</td>\n",
        "</tr>\n",
        "<tr>\n",
        "  <th>Method:</th>             <td>Least Squares</td>  <th>  F-statistic:       </th> <td>   18.47</td>\n",
        "</tr>\n",
        "<tr>\n",
        "  <th>Date:</th>             <td>Wed, 18 Mar 2015</td> <th>  Prob (F-statistic):</th> <td>1.04e-06</td>\n",
        "</tr>\n",
        "<tr>\n",
        "  <th>Time:</th>                 <td>13:28:06</td>     <th>  Log-Likelihood:    </th> <td> -2.1043</td>\n",
        "</tr>\n",
        "<tr>\n",
        "  <th>No. Observations:</th>      <td>    25</td>      <th>  AIC:               </th> <td>   16.21</td>\n",
        "</tr>\n",
        "<tr>\n",
        "  <th>Df Residuals:</th>          <td>    19</td>      <th>  BIC:               </th> <td>   23.52</td>\n",
        "</tr>\n",
        "<tr>\n",
        "  <th>Df Model:</th>              <td>     5</td>      <th>                     </th>     <td> </td>   \n",
        "</tr>\n",
        "</table>\n",
        "<table class=\"simpletable\">\n",
        "<tr>\n",
        "       <td></td>          <th>coef</th>     <th>std err</th>      <th>t</th>      <th>P>|t|</th> <th>[95.0% Conf. Int.]</th> \n",
        "</tr>\n",
        "<tr>\n",
        "  <th>const</th>       <td>   -0.4504</td> <td>   10.189</td> <td>   -0.044</td> <td> 0.965</td> <td>  -21.776    20.875</td>\n",
        "</tr>\n",
        "<tr>\n",
        "  <th>AGST</th>        <td>    0.6012</td> <td>    0.103</td> <td>    5.836</td> <td> 0.000</td> <td>    0.386     0.817</td>\n",
        "</tr>\n",
        "<tr>\n",
        "  <th>HarvestRain</th> <td>   -0.0040</td> <td>    0.001</td> <td>   -4.523</td> <td> 0.000</td> <td>   -0.006    -0.002</td>\n",
        "</tr>\n",
        "<tr>\n",
        "  <th>WinterRain</th>  <td>    0.0010</td> <td>    0.001</td> <td>    1.963</td> <td> 0.064</td> <td>-6.89e-05     0.002</td>\n",
        "</tr>\n",
        "<tr>\n",
        "  <th>Age</th>         <td>    0.0006</td> <td>    0.079</td> <td>    0.007</td> <td> 0.994</td> <td>   -0.165     0.166</td>\n",
        "</tr>\n",
        "<tr>\n",
        "  <th>FrancePop</th>   <td>-4.953e-05</td> <td>    0.000</td> <td>   -0.297</td> <td> 0.770</td> <td>   -0.000     0.000</td>\n",
        "</tr>\n",
        "</table>\n",
        "<table class=\"simpletable\">\n",
        "<tr>\n",
        "  <th>Omnibus:</th>       <td> 1.769</td> <th>  Durbin-Watson:     </th> <td>   2.792</td>\n",
        "</tr>\n",
        "<tr>\n",
        "  <th>Prob(Omnibus):</th> <td> 0.413</td> <th>  Jarque-Bera (JB):  </th> <td>   1.026</td>\n",
        "</tr>\n",
        "<tr>\n",
        "  <th>Skew:</th>          <td>-0.005</td> <th>  Prob(JB):          </th> <td>   0.599</td>\n",
        "</tr>\n",
        "<tr>\n",
        "  <th>Kurtosis:</th>      <td> 2.008</td> <th>  Cond. No.          </th> <td>8.41e+06</td>\n",
        "</tr>\n",
        "</table>"
       ],
       "metadata": {},
       "output_type": "pyout",
       "prompt_number": 21,
       "text": [
        "<class 'statsmodels.iolib.summary.Summary'>\n",
        "\"\"\"\n",
        "                            OLS Regression Results                            \n",
        "==============================================================================\n",
        "Dep. Variable:                  Price   R-squared:                       0.829\n",
        "Model:                            OLS   Adj. R-squared:                  0.784\n",
        "Method:                 Least Squares   F-statistic:                     18.47\n",
        "Date:                Wed, 18 Mar 2015   Prob (F-statistic):           1.04e-06\n",
        "Time:                        13:28:06   Log-Likelihood:                -2.1043\n",
        "No. Observations:                  25   AIC:                             16.21\n",
        "Df Residuals:                      19   BIC:                             23.52\n",
        "Df Model:                           5                                         \n",
        "===============================================================================\n",
        "                  coef    std err          t      P>|t|      [95.0% Conf. Int.]\n",
        "-------------------------------------------------------------------------------\n",
        "const          -0.4504     10.189     -0.044      0.965       -21.776    20.875\n",
        "AGST            0.6012      0.103      5.836      0.000         0.386     0.817\n",
        "HarvestRain    -0.0040      0.001     -4.523      0.000        -0.006    -0.002\n",
        "WinterRain      0.0010      0.001      1.963      0.064     -6.89e-05     0.002\n",
        "Age             0.0006      0.079      0.007      0.994        -0.165     0.166\n",
        "FrancePop   -4.953e-05      0.000     -0.297      0.770        -0.000     0.000\n",
        "==============================================================================\n",
        "Omnibus:                        1.769   Durbin-Watson:                   2.792\n",
        "Prob(Omnibus):                  0.413   Jarque-Bera (JB):                1.026\n",
        "Skew:                          -0.005   Prob(JB):                        0.599\n",
        "Kurtosis:                       2.008   Cond. No.                     8.41e+06\n",
        "==============================================================================\n",
        "\n",
        "Warnings:\n",
        "[1] The condition number is large, 8.41e+06. This might indicate that there are\n",
        "strong multicollinearity or other numerical problems.\n",
        "\"\"\""
       ]
      }
     ],
     "prompt_number": 21
    },
    {
     "cell_type": "heading",
     "level": 2,
     "metadata": {},
     "source": [
      "Linear Regression (after removing FrancePop predictor)"
     ]
    },
    {
     "cell_type": "markdown",
     "metadata": {},
     "source": [
      "Intuitively, one thinks that population of France given by FrancePop variable has no effect on Wine Price. So we create a model after excluding FrancePop as a predictor."
     ]
    },
    {
     "cell_type": "code",
     "collapsed": false,
     "input": [
      "y = wine['Price'] # Response\n",
      "\n",
      "X = wine[['AGST','HarvestRain' , 'WinterRain' , 'Age' ]]  # Predictors\n",
      "X = sm.add_constant(X) # add constant for the intercept\n",
      "\n",
      "X.head()"
     ],
     "language": "python",
     "metadata": {},
     "outputs": [
      {
       "html": [
        "<div style=\"max-height:1000px;max-width:1500px;overflow:auto;\">\n",
        "<table border=\"1\" class=\"dataframe\">\n",
        "  <thead>\n",
        "    <tr style=\"text-align: right;\">\n",
        "      <th></th>\n",
        "      <th>const</th>\n",
        "      <th>AGST</th>\n",
        "      <th>HarvestRain</th>\n",
        "      <th>WinterRain</th>\n",
        "      <th>Age</th>\n",
        "    </tr>\n",
        "  </thead>\n",
        "  <tbody>\n",
        "    <tr>\n",
        "      <th>0</th>\n",
        "      <td> 1</td>\n",
        "      <td> 17.1167</td>\n",
        "      <td> 160</td>\n",
        "      <td> 600</td>\n",
        "      <td> 31</td>\n",
        "    </tr>\n",
        "    <tr>\n",
        "      <th>1</th>\n",
        "      <td> 1</td>\n",
        "      <td> 16.7333</td>\n",
        "      <td>  80</td>\n",
        "      <td> 690</td>\n",
        "      <td> 30</td>\n",
        "    </tr>\n",
        "    <tr>\n",
        "      <th>2</th>\n",
        "      <td> 1</td>\n",
        "      <td> 17.1500</td>\n",
        "      <td> 130</td>\n",
        "      <td> 502</td>\n",
        "      <td> 28</td>\n",
        "    </tr>\n",
        "    <tr>\n",
        "      <th>3</th>\n",
        "      <td> 1</td>\n",
        "      <td> 16.1333</td>\n",
        "      <td> 110</td>\n",
        "      <td> 420</td>\n",
        "      <td> 26</td>\n",
        "    </tr>\n",
        "    <tr>\n",
        "      <th>4</th>\n",
        "      <td> 1</td>\n",
        "      <td> 16.4167</td>\n",
        "      <td> 187</td>\n",
        "      <td> 582</td>\n",
        "      <td> 25</td>\n",
        "    </tr>\n",
        "  </tbody>\n",
        "</table>\n",
        "</div>"
       ],
       "metadata": {},
       "output_type": "pyout",
       "prompt_number": 22,
       "text": [
        "   const     AGST  HarvestRain  WinterRain  Age\n",
        "0      1  17.1167          160         600   31\n",
        "1      1  16.7333           80         690   30\n",
        "2      1  17.1500          130         502   28\n",
        "3      1  16.1333          110         420   26\n",
        "4      1  16.4167          187         582   25"
       ]
      }
     ],
     "prompt_number": 22
    },
    {
     "cell_type": "code",
     "collapsed": false,
     "input": [
      "est = sm.OLS(y,X)\n",
      "est = est.fit()\n",
      "est.params"
     ],
     "language": "python",
     "metadata": {},
     "outputs": [
      {
       "metadata": {},
       "output_type": "pyout",
       "prompt_number": 23,
       "text": [
        "const         -3.429980\n",
        "AGST           0.607209\n",
        "HarvestRain   -0.003972\n",
        "WinterRain     0.001076\n",
        "Age            0.023931\n",
        "dtype: float64"
       ]
      }
     ],
     "prompt_number": 23
    },
    {
     "cell_type": "code",
     "collapsed": false,
     "input": [
      "est.summary()"
     ],
     "language": "python",
     "metadata": {},
     "outputs": [
      {
       "html": [
        "<table class=\"simpletable\">\n",
        "<caption>OLS Regression Results</caption>\n",
        "<tr>\n",
        "  <th>Dep. Variable:</th>          <td>Price</td>      <th>  R-squared:         </th> <td>   0.829</td>\n",
        "</tr>\n",
        "<tr>\n",
        "  <th>Model:</th>                   <td>OLS</td>       <th>  Adj. R-squared:    </th> <td>   0.794</td>\n",
        "</tr>\n",
        "<tr>\n",
        "  <th>Method:</th>             <td>Least Squares</td>  <th>  F-statistic:       </th> <td>   24.17</td>\n",
        "</tr>\n",
        "<tr>\n",
        "  <th>Date:</th>             <td>Wed, 18 Mar 2015</td> <th>  Prob (F-statistic):</th> <td>2.04e-07</td>\n",
        "</tr>\n",
        "<tr>\n",
        "  <th>Time:</th>                 <td>13:33:27</td>     <th>  Log-Likelihood:    </th> <td> -2.1622</td>\n",
        "</tr>\n",
        "<tr>\n",
        "  <th>No. Observations:</th>      <td>    25</td>      <th>  AIC:               </th> <td>   14.32</td>\n",
        "</tr>\n",
        "<tr>\n",
        "  <th>Df Residuals:</th>          <td>    20</td>      <th>  BIC:               </th> <td>   20.42</td>\n",
        "</tr>\n",
        "<tr>\n",
        "  <th>Df Model:</th>              <td>     4</td>      <th>                     </th>     <td> </td>   \n",
        "</tr>\n",
        "</table>\n",
        "<table class=\"simpletable\">\n",
        "<tr>\n",
        "       <td></td>          <th>coef</th>     <th>std err</th>      <th>t</th>      <th>P>|t|</th> <th>[95.0% Conf. Int.]</th> \n",
        "</tr>\n",
        "<tr>\n",
        "  <th>const</th>       <td>   -3.4300</td> <td>    1.766</td> <td>   -1.942</td> <td> 0.066</td> <td>   -7.114     0.254</td>\n",
        "</tr>\n",
        "<tr>\n",
        "  <th>AGST</th>        <td>    0.6072</td> <td>    0.099</td> <td>    6.152</td> <td> 0.000</td> <td>    0.401     0.813</td>\n",
        "</tr>\n",
        "<tr>\n",
        "  <th>HarvestRain</th> <td>   -0.0040</td> <td>    0.001</td> <td>   -4.652</td> <td> 0.000</td> <td>   -0.006    -0.002</td>\n",
        "</tr>\n",
        "<tr>\n",
        "  <th>WinterRain</th>  <td>    0.0011</td> <td>    0.001</td> <td>    2.120</td> <td> 0.047</td> <td> 1.73e-05     0.002</td>\n",
        "</tr>\n",
        "<tr>\n",
        "  <th>Age</th>         <td>    0.0239</td> <td>    0.008</td> <td>    2.956</td> <td> 0.008</td> <td>    0.007     0.041</td>\n",
        "</tr>\n",
        "</table>\n",
        "<table class=\"simpletable\">\n",
        "<tr>\n",
        "  <th>Omnibus:</th>       <td> 1.814</td> <th>  Durbin-Watson:     </th> <td>   2.797</td>\n",
        "</tr>\n",
        "<tr>\n",
        "  <th>Prob(Omnibus):</th> <td> 0.404</td> <th>  Jarque-Bera (JB):  </th> <td>   1.041</td>\n",
        "</tr>\n",
        "<tr>\n",
        "  <th>Skew:</th>          <td> 0.034</td> <th>  Prob(JB):          </th> <td>   0.594</td>\n",
        "</tr>\n",
        "<tr>\n",
        "  <th>Kurtosis:</th>      <td> 2.003</td> <th>  Cond. No.          </th> <td>1.91e+04</td>\n",
        "</tr>\n",
        "</table>"
       ],
       "metadata": {},
       "output_type": "pyout",
       "prompt_number": 24,
       "text": [
        "<class 'statsmodels.iolib.summary.Summary'>\n",
        "\"\"\"\n",
        "                            OLS Regression Results                            \n",
        "==============================================================================\n",
        "Dep. Variable:                  Price   R-squared:                       0.829\n",
        "Model:                            OLS   Adj. R-squared:                  0.794\n",
        "Method:                 Least Squares   F-statistic:                     24.17\n",
        "Date:                Wed, 18 Mar 2015   Prob (F-statistic):           2.04e-07\n",
        "Time:                        13:33:27   Log-Likelihood:                -2.1622\n",
        "No. Observations:                  25   AIC:                             14.32\n",
        "Df Residuals:                      20   BIC:                             20.42\n",
        "Df Model:                           4                                         \n",
        "===============================================================================\n",
        "                  coef    std err          t      P>|t|      [95.0% Conf. Int.]\n",
        "-------------------------------------------------------------------------------\n",
        "const          -3.4300      1.766     -1.942      0.066        -7.114     0.254\n",
        "AGST            0.6072      0.099      6.152      0.000         0.401     0.813\n",
        "HarvestRain    -0.0040      0.001     -4.652      0.000        -0.006    -0.002\n",
        "WinterRain      0.0011      0.001      2.120      0.047      1.73e-05     0.002\n",
        "Age             0.0239      0.008      2.956      0.008         0.007     0.041\n",
        "==============================================================================\n",
        "Omnibus:                        1.814   Durbin-Watson:                   2.797\n",
        "Prob(Omnibus):                  0.404   Jarque-Bera (JB):                1.041\n",
        "Skew:                           0.034   Prob(JB):                        0.594\n",
        "Kurtosis:                       2.003   Cond. No.                     1.91e+04\n",
        "==============================================================================\n",
        "\n",
        "Warnings:\n",
        "[1] The condition number is large, 1.91e+04. This might indicate that there are\n",
        "strong multicollinearity or other numerical problems.\n",
        "\"\"\""
       ]
      }
     ],
     "prompt_number": 24
    },
    {
     "cell_type": "code",
     "collapsed": false,
     "input": [
      "print 'SSE: ', sum(est.resid ** 2)"
     ],
     "language": "python",
     "metadata": {},
     "outputs": [
      {
       "output_type": "stream",
       "stream": "stdout",
       "text": [
        "SSE:  1.74016220138\n"
       ]
      }
     ],
     "prompt_number": 25
    },
    {
     "cell_type": "heading",
     "level": 2,
     "metadata": {},
     "source": [
      "Correlations"
     ]
    },
    {
     "cell_type": "code",
     "collapsed": false,
     "input": [
      "wine[['Age','FrancePop']].corr()"
     ],
     "language": "python",
     "metadata": {},
     "outputs": [
      {
       "html": [
        "<div style=\"max-height:1000px;max-width:1500px;overflow:auto;\">\n",
        "<table border=\"1\" class=\"dataframe\">\n",
        "  <thead>\n",
        "    <tr style=\"text-align: right;\">\n",
        "      <th></th>\n",
        "      <th>Age</th>\n",
        "      <th>FrancePop</th>\n",
        "    </tr>\n",
        "  </thead>\n",
        "  <tbody>\n",
        "    <tr>\n",
        "      <th>Age</th>\n",
        "      <td> 1.000000</td>\n",
        "      <td>-0.994485</td>\n",
        "    </tr>\n",
        "    <tr>\n",
        "      <th>FrancePop</th>\n",
        "      <td>-0.994485</td>\n",
        "      <td> 1.000000</td>\n",
        "    </tr>\n",
        "  </tbody>\n",
        "</table>\n",
        "</div>"
       ],
       "metadata": {},
       "output_type": "pyout",
       "prompt_number": 27,
       "text": [
        "                Age  FrancePop\n",
        "Age        1.000000  -0.994485\n",
        "FrancePop -0.994485   1.000000"
       ]
      }
     ],
     "prompt_number": 27
    },
    {
     "cell_type": "markdown",
     "metadata": {},
     "source": [
      "As seen above, there is a very strong correlation between Age and FrancePop. Excluding FrancePop from our model makes Age a significant predictor. This is due to multicollinearity. "
     ]
    },
    {
     "cell_type": "heading",
     "level": 2,
     "metadata": {},
     "source": [
      "Making predictions on a test set"
     ]
    },
    {
     "cell_type": "code",
     "collapsed": false,
     "input": [
      "wine_test = pd.read_csv(data_folder + 'wine_test.csv')\n",
      "wine_test.describe().transpose()"
     ],
     "language": "python",
     "metadata": {},
     "outputs": [
      {
       "html": [
        "<div style=\"max-height:1000px;max-width:1500px;overflow:auto;\">\n",
        "<table border=\"1\" class=\"dataframe\">\n",
        "  <thead>\n",
        "    <tr style=\"text-align: right;\">\n",
        "      <th></th>\n",
        "      <th>count</th>\n",
        "      <th>mean</th>\n",
        "      <th>std</th>\n",
        "      <th>min</th>\n",
        "      <th>25%</th>\n",
        "      <th>50%</th>\n",
        "      <th>75%</th>\n",
        "      <th>max</th>\n",
        "    </tr>\n",
        "  </thead>\n",
        "  <tbody>\n",
        "    <tr>\n",
        "      <th>Year</th>\n",
        "      <td> 2</td>\n",
        "      <td>  1979.50000</td>\n",
        "      <td>   0.707107</td>\n",
        "      <td>  1979.0000</td>\n",
        "      <td>  1979.250000</td>\n",
        "      <td>  1979.50000</td>\n",
        "      <td>  1979.750000</td>\n",
        "      <td>  1980.0000</td>\n",
        "    </tr>\n",
        "    <tr>\n",
        "      <th>Price</th>\n",
        "      <td> 2</td>\n",
        "      <td>     6.72600</td>\n",
        "      <td>   0.322582</td>\n",
        "      <td>     6.4979</td>\n",
        "      <td>     6.611950</td>\n",
        "      <td>     6.72600</td>\n",
        "      <td>     6.840050</td>\n",
        "      <td>     6.9541</td>\n",
        "    </tr>\n",
        "    <tr>\n",
        "      <th>WinterRain</th>\n",
        "      <td> 2</td>\n",
        "      <td>   647.50000</td>\n",
        "      <td>  98.287843</td>\n",
        "      <td>   578.0000</td>\n",
        "      <td>   612.750000</td>\n",
        "      <td>   647.50000</td>\n",
        "      <td>   682.250000</td>\n",
        "      <td>   717.0000</td>\n",
        "    </tr>\n",
        "    <tr>\n",
        "      <th>AGST</th>\n",
        "      <td> 2</td>\n",
        "      <td>    16.08335</td>\n",
        "      <td>   0.117875</td>\n",
        "      <td>    16.0000</td>\n",
        "      <td>    16.041675</td>\n",
        "      <td>    16.08335</td>\n",
        "      <td>    16.125025</td>\n",
        "      <td>    16.1667</td>\n",
        "    </tr>\n",
        "    <tr>\n",
        "      <th>HarvestRain</th>\n",
        "      <td> 2</td>\n",
        "      <td>    98.00000</td>\n",
        "      <td>  33.941125</td>\n",
        "      <td>    74.0000</td>\n",
        "      <td>    86.000000</td>\n",
        "      <td>    98.00000</td>\n",
        "      <td>   110.000000</td>\n",
        "      <td>   122.0000</td>\n",
        "    </tr>\n",
        "    <tr>\n",
        "      <th>Age</th>\n",
        "      <td> 2</td>\n",
        "      <td>     3.50000</td>\n",
        "      <td>   0.707107</td>\n",
        "      <td>     3.0000</td>\n",
        "      <td>     3.250000</td>\n",
        "      <td>     3.50000</td>\n",
        "      <td>     3.750000</td>\n",
        "      <td>     4.0000</td>\n",
        "    </tr>\n",
        "    <tr>\n",
        "      <th>FrancePop</th>\n",
        "      <td> 2</td>\n",
        "      <td> 54973.03400</td>\n",
        "      <td> 194.032929</td>\n",
        "      <td> 54835.8320</td>\n",
        "      <td> 54904.433000</td>\n",
        "      <td> 54973.03400</td>\n",
        "      <td> 55041.635000</td>\n",
        "      <td> 55110.2360</td>\n",
        "    </tr>\n",
        "  </tbody>\n",
        "</table>\n",
        "</div>"
       ],
       "metadata": {},
       "output_type": "pyout",
       "prompt_number": 28,
       "text": [
        "             count         mean         std         min           25%  \\\n",
        "Year             2   1979.50000    0.707107   1979.0000   1979.250000   \n",
        "Price            2      6.72600    0.322582      6.4979      6.611950   \n",
        "WinterRain       2    647.50000   98.287843    578.0000    612.750000   \n",
        "AGST             2     16.08335    0.117875     16.0000     16.041675   \n",
        "HarvestRain      2     98.00000   33.941125     74.0000     86.000000   \n",
        "Age              2      3.50000    0.707107      3.0000      3.250000   \n",
        "FrancePop        2  54973.03400  194.032929  54835.8320  54904.433000   \n",
        "\n",
        "                     50%           75%         max  \n",
        "Year          1979.50000   1979.750000   1980.0000  \n",
        "Price            6.72600      6.840050      6.9541  \n",
        "WinterRain     647.50000    682.250000    717.0000  \n",
        "AGST            16.08335     16.125025     16.1667  \n",
        "HarvestRain     98.00000    110.000000    122.0000  \n",
        "Age              3.50000      3.750000      4.0000  \n",
        "FrancePop    54973.03400  55041.635000  55110.2360  "
       ]
      }
     ],
     "prompt_number": 28
    },
    {
     "cell_type": "code",
     "collapsed": false,
     "input": [
      "# get the test data ready\n",
      "\n",
      "X_test = wine_test[['AGST','HarvestRain' , 'WinterRain' , 'Age' ]]  # Predictors\n",
      "X_test = sm.add_constant(X_test)\n",
      "\n",
      "y_test = wine_test['Price']"
     ],
     "language": "python",
     "metadata": {},
     "outputs": [],
     "prompt_number": 31
    },
    {
     "cell_type": "code",
     "collapsed": false,
     "input": [
      "# Using our last model to predict on wine_test\n",
      "y_hat = est.predict(X_test)\n",
      "y_hat"
     ],
     "language": "python",
     "metadata": {},
     "outputs": [
      {
       "metadata": {},
       "output_type": "pyout",
       "prompt_number": 32,
       "text": [
        "array([ 6.76892463,  6.6849104 ])"
       ]
      }
     ],
     "prompt_number": 32
    },
    {
     "cell_type": "code",
     "collapsed": false,
     "input": [
      "# The differences between actual & predicted values\n",
      "diff = y_hat - y_test\n",
      "diff"
     ],
     "language": "python",
     "metadata": {},
     "outputs": [
      {
       "metadata": {},
       "output_type": "pyout",
       "prompt_number": 33,
       "text": [
        "0   -0.185175\n",
        "1    0.187010\n",
        "Name: Price, dtype: float64"
       ]
      }
     ],
     "prompt_number": 33
    },
    {
     "cell_type": "code",
     "collapsed": false,
     "input": [
      "# The Sum of Squared Errors (SSE)\n",
      "SSE = sum(diff ** 2)\n",
      "print 'Sum of Squared Error (SSE): ', SSE\n",
      "\n",
      "# The Total Sum of Squares\n",
      "SST = sum((y_test - np.mean(y)) ** 2)\n",
      "print 'Total Sum of Squares (SST): ', SST"
     ],
     "language": "python",
     "metadata": {},
     "outputs": [
      {
       "output_type": "stream",
       "stream": "stdout",
       "text": [
        "Sum of Squared Error (SSE):  0.0692628084878\n",
        "Total Sum of Squares (SST):  0.336926856352\n"
       ]
      }
     ],
     "prompt_number": 40
    },
    {
     "cell_type": "code",
     "collapsed": false,
     "input": [
      "# R-squared\n",
      "R_sqrd = 1 - (SSE / SST)\n",
      "print 'The R-squared value is: ' , R_sqrd"
     ],
     "language": "python",
     "metadata": {},
     "outputs": [
      {
       "output_type": "stream",
       "stream": "stdout",
       "text": [
        "The R-squared value is:  0.794427760263\n"
       ]
      }
     ],
     "prompt_number": 41
    }
   ],
   "metadata": {}
  }
 ]
}