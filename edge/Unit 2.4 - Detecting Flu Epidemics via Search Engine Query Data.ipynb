{
 "metadata": {
  "name": "",
  "signature": "sha256:b84a4bef0ec2ff59d239fbf151211ce331acfe02ae1683c72a3b48003e5b97e9"
 },
 "nbformat": 3,
 "nbformat_minor": 0,
 "worksheets": [
  {
   "cells": [
    {
     "cell_type": "code",
     "collapsed": false,
     "input": [
      "%matplotlib inline\n",
      "import numpy as np\n",
      "import pandas as pd\n",
      "import statsmodels.api as sm\n",
      "import matplotlib.pyplot as plt\n",
      "import os\n",
      "import math\n",
      "\n",
      "# setting the style of plots similar to ggplot\n",
      "pd.options.display.mpl_style = 'default'\n",
      "\n",
      "#data folder path\n",
      "data_folder = '..' + os.sep + 'data' + os.sep"
     ],
     "language": "python",
     "metadata": {},
     "outputs": [],
     "prompt_number": 48
    },
    {
     "cell_type": "code",
     "collapsed": false,
     "input": [
      "from IPython.core.display import HTML\n",
      "\n",
      "\n",
      "def css_styling():\n",
      "    styles = open(\"styles/custom.css\", \"r\").read()\n",
      "    return HTML(styles)\n",
      "css_styling()"
     ],
     "language": "python",
     "metadata": {},
     "outputs": [
      {
       "html": [
        "<style>\n",
        "    @font-face {\n",
        "        font-family: \"Computer Modern\";\n",
        "        src: url('http://9dbb143991406a7c655e-aa5fcb0a5a4ec34cff238a2d56ca4144.r56.cf5.rackcdn.com/cmunss.otf');\n",
        "    }\n",
        "    @font-face {\n",
        "        font-family: \"Computer Modern\";\n",
        "        font-weight: bold;\n",
        "        src: url('http://9dbb143991406a7c655e-aa5fcb0a5a4ec34cff238a2d56ca4144.r56.cf5.rackcdn.com/cmunsx.otf');\n",
        "    }\n",
        "    @font-face {\n",
        "        font-family: \"Computer Modern\";\n",
        "        font-style: oblique;\n",
        "        src: url('http://9dbb143991406a7c655e-aa5fcb0a5a4ec34cff238a2d56ca4144.r56.cf5.rackcdn.com/cmunsi.otf');\n",
        "    }\n",
        "    @font-face {\n",
        "        font-family: \"Computer Modern\";\n",
        "        font-weight: bold;\n",
        "        font-style: oblique;\n",
        "        src: url('http://9dbb143991406a7c655e-aa5fcb0a5a4ec34cff238a2d56ca4144.r56.cf5.rackcdn.com/cmunso.otf');\n",
        "    }\n",
        "    div.cell{\n",
        "        width:800px;\n",
        "        margin-left:16% !important;\n",
        "        margin-right:auto;\n",
        "    }\n",
        "    h1 {\n",
        "        font-family: Helvetica, serif;\n",
        "        color: #B40431;\n",
        "    }\n",
        "    h4{\n",
        "        margin-top:12px;\n",
        "        margin-bottom: 3px;\n",
        "       }\n",
        "    div.text_cell_render{\n",
        "        font-family: Computer Modern, \"Helvetica Neue\", Arial, Helvetica, Geneva, sans-serif;\n",
        "        line-height: 145%;\n",
        "        font-size: 130%;\n",
        "        width:800px;\n",
        "        margin-left:auto;\n",
        "        margin-right:auto;\n",
        "    }\n",
        "    .CodeMirror{\n",
        "            font-family: \"Source Code Pro\", source-code-pro,Consolas, monospace;\n",
        "    }\n",
        "    .prompt{\n",
        "        display: None;\n",
        "    }\n",
        "    .text_cell_render h5 {\n",
        "        font-weight: 300;\n",
        "        font-size: 22pt;\n",
        "        color: #4057A1;\n",
        "        font-style: italic;\n",
        "        margin-bottom: .5em;\n",
        "        margin-top: 0.5em;\n",
        "        display: block;\n",
        "    }\n",
        "    \n",
        "    .warning{\n",
        "        color: rgb( 240, 20, 20 )\n",
        "        }  \n",
        "</style>\n",
        "<script>\n",
        "    MathJax.Hub.Config({\n",
        "                        TeX: {\n",
        "                           extensions: [\"AMSmath.js\"]\n",
        "                           },\n",
        "                tex2jax: {\n",
        "                    inlineMath: [ ['$','$'], [\"\\\\(\",\"\\\\)\"] ],\n",
        "                    displayMath: [ ['$$','$$'], [\"\\\\[\",\"\\\\]\"] ]\n",
        "                },\n",
        "                displayAlign: 'center', // Change this to 'center' to center equations.\n",
        "                \"HTML-CSS\": {\n",
        "                    styles: {'.MathJax_Display': {\"margin\": 4}}\n",
        "                }\n",
        "        });\n",
        "</script>\n"
       ],
       "metadata": {},
       "output_type": "pyout",
       "prompt_number": 2,
       "text": [
        "<IPython.core.display.HTML at 0x3982b00>"
       ]
      }
     ],
     "prompt_number": 2
    },
    {
     "cell_type": "heading",
     "level": 2,
     "metadata": {},
     "source": [
      "Load the data"
     ]
    },
    {
     "cell_type": "markdown",
     "metadata": {},
     "source": [
      "### Columns in the data\n",
      "\"Week\" - The range of dates represented by this observation, in year/month/day format.\n",
      "\n",
      "\"ILI\" - This column lists the percentage of ILI-related physician visits for the corresponding week.\n",
      "\n",
      "\"Queries\" - This column lists the fraction of queries that are ILI-related for the corresponding week, adjusted to be between 0 and 1 (higher values correspond to more ILI-related search queries)."
     ]
    },
    {
     "cell_type": "code",
     "collapsed": false,
     "input": [
      "FluTrain = pd.read_csv(data_folder + 'FluTrain.csv')\n",
      "FluTest = pd.read_csv(data_folder + 'FluTest.csv')"
     ],
     "language": "python",
     "metadata": {},
     "outputs": [],
     "prompt_number": 4
    },
    {
     "cell_type": "heading",
     "level": 2,
     "metadata": {},
     "source": [
      "Data Exploration"
     ]
    },
    {
     "cell_type": "heading",
     "level": 3,
     "metadata": {},
     "source": [
      "Which week corresponds to the highest percentage of ILI-related physician visits?"
     ]
    },
    {
     "cell_type": "code",
     "collapsed": false,
     "input": [
      "FluTrain[FluTrain.ILI == FluTrain.ILI.max()]"
     ],
     "language": "python",
     "metadata": {},
     "outputs": [
      {
       "html": [
        "<div style=\"max-height:1000px;max-width:1500px;overflow:auto;\">\n",
        "<table border=\"1\" class=\"dataframe\">\n",
        "  <thead>\n",
        "    <tr style=\"text-align: right;\">\n",
        "      <th></th>\n",
        "      <th>Week</th>\n",
        "      <th>ILI</th>\n",
        "      <th>Queries</th>\n",
        "    </tr>\n",
        "  </thead>\n",
        "  <tbody>\n",
        "    <tr>\n",
        "      <th>302</th>\n",
        "      <td> 2009-10-18 - 2009-10-24</td>\n",
        "      <td> 7.618892</td>\n",
        "      <td> 1</td>\n",
        "    </tr>\n",
        "  </tbody>\n",
        "</table>\n",
        "</div>"
       ],
       "metadata": {},
       "output_type": "pyout",
       "prompt_number": 10,
       "text": [
        "                        Week       ILI  Queries\n",
        "302  2009-10-18 - 2009-10-24  7.618892        1"
       ]
      }
     ],
     "prompt_number": 10
    },
    {
     "cell_type": "heading",
     "level": 3,
     "metadata": {},
     "source": [
      "Which week corresponds to the highest percentage of ILI-related query fraction?"
     ]
    },
    {
     "cell_type": "code",
     "collapsed": false,
     "input": [
      "FluTrain[FluTrain.Queries == FluTrain.Queries.max()]"
     ],
     "language": "python",
     "metadata": {},
     "outputs": [
      {
       "html": [
        "<div style=\"max-height:1000px;max-width:1500px;overflow:auto;\">\n",
        "<table border=\"1\" class=\"dataframe\">\n",
        "  <thead>\n",
        "    <tr style=\"text-align: right;\">\n",
        "      <th></th>\n",
        "      <th>Week</th>\n",
        "      <th>ILI</th>\n",
        "      <th>Queries</th>\n",
        "    </tr>\n",
        "  </thead>\n",
        "  <tbody>\n",
        "    <tr>\n",
        "      <th>302</th>\n",
        "      <td> 2009-10-18 - 2009-10-24</td>\n",
        "      <td> 7.618892</td>\n",
        "      <td> 1</td>\n",
        "    </tr>\n",
        "  </tbody>\n",
        "</table>\n",
        "</div>"
       ],
       "metadata": {},
       "output_type": "pyout",
       "prompt_number": 12,
       "text": [
        "                        Week       ILI  Queries\n",
        "302  2009-10-18 - 2009-10-24  7.618892        1"
       ]
      }
     ],
     "prompt_number": 12
    },
    {
     "cell_type": "heading",
     "level": 3,
     "metadata": {},
     "source": [
      "Plot the histogram of the dependent variable, ILI"
     ]
    },
    {
     "cell_type": "code",
     "collapsed": false,
     "input": [
      "FluTrain.ILI.hist()"
     ],
     "language": "python",
     "metadata": {},
     "outputs": [
      {
       "metadata": {},
       "output_type": "pyout",
       "prompt_number": 32,
       "text": [
        "<matplotlib.axes._subplots.AxesSubplot at 0x18bc37b8>"
       ]
      },
      {
       "metadata": {},
       "output_type": "display_data",
       "png": "[encoded data removed]",
       "text": [
        "<matplotlib.figure.Figure at 0x18ae2208>"
       ]
      }
     ],
     "prompt_number": 32
    },
    {
     "cell_type": "markdown",
     "metadata": {},
     "source": [
      "Note: As can be seen from the histogram, most of the ILI values are small, with a relatively small number of much larger values (in statistics, this sort of data is called **\"skew right\"**)."
     ]
    },
    {
     "cell_type": "markdown",
     "metadata": {},
     "source": [
      "When handling a skewed dependent variable, it is often useful to predict the logarithm of the dependent variable instead of the dependent variable itself -- this prevents the small number of unusually large or small observations from having an undue influence on the sum of squared errors of predictive models. In this problem, we will predict the natural log of the ILI variable, which can be computed using the log() function.\n",
      "\n",
      "### Plot of natural logarithm of ILI versus Queries"
     ]
    },
    {
     "cell_type": "code",
     "collapsed": false,
     "input": [
      "from ggplot import *\n",
      "ggplot(aes('ILI', 'Queries'), data=FluTrain) + geom_point() + scale_x_log()"
     ],
     "language": "python",
     "metadata": {},
     "outputs": [
      {
       "metadata": {},
       "output_type": "display_data",
       "png": "[encoded data removed]",
       "text": [
        "<matplotlib.figure.Figure at 0x1f3097f0>"
       ]
      },
      {
       "metadata": {},
       "output_type": "pyout",
       "prompt_number": 47,
       "text": [
        "<ggplot: (27380358)>"
       ]
      }
     ],
     "prompt_number": 47
    },
    {
     "cell_type": "heading",
     "level": 2,
     "metadata": {},
     "source": [
      "Linear Regression Model"
     ]
    },
    {
     "cell_type": "code",
     "collapsed": false,
     "input": [
      "# Prepare the response and the predictor variables\n",
      "y = np.log(FluTrain.ILI)\n",
      "\n",
      "X = FluTrain.Queries\n",
      "X = sm.add_constant(X)\n",
      "X.head()"
     ],
     "language": "python",
     "metadata": {},
     "outputs": [
      {
       "html": [
        "<div style=\"max-height:1000px;max-width:1500px;overflow:auto;\">\n",
        "<table border=\"1\" class=\"dataframe\">\n",
        "  <thead>\n",
        "    <tr style=\"text-align: right;\">\n",
        "      <th></th>\n",
        "      <th>const</th>\n",
        "      <th>Queries</th>\n",
        "    </tr>\n",
        "  </thead>\n",
        "  <tbody>\n",
        "    <tr>\n",
        "      <th>0</th>\n",
        "      <td> 1</td>\n",
        "      <td> 0.237716</td>\n",
        "    </tr>\n",
        "    <tr>\n",
        "      <th>1</th>\n",
        "      <td> 1</td>\n",
        "      <td> 0.220452</td>\n",
        "    </tr>\n",
        "    <tr>\n",
        "      <th>2</th>\n",
        "      <td> 1</td>\n",
        "      <td> 0.225764</td>\n",
        "    </tr>\n",
        "    <tr>\n",
        "      <th>3</th>\n",
        "      <td> 1</td>\n",
        "      <td> 0.237716</td>\n",
        "    </tr>\n",
        "    <tr>\n",
        "      <th>4</th>\n",
        "      <td> 1</td>\n",
        "      <td> 0.224436</td>\n",
        "    </tr>\n",
        "  </tbody>\n",
        "</table>\n",
        "</div>"
       ],
       "metadata": {},
       "output_type": "pyout",
       "prompt_number": 50,
       "text": [
        "   const   Queries\n",
        "0      1  0.237716\n",
        "1      1  0.220452\n",
        "2      1  0.225764\n",
        "3      1  0.237716\n",
        "4      1  0.224436"
       ]
      }
     ],
     "prompt_number": 50
    },
    {
     "cell_type": "code",
     "collapsed": false,
     "input": [
      "# Fit the model\n",
      "FluTrend1 = sm.OLS(y,X)\n",
      "FluTrend1 = FluTrend1.fit()\n",
      "FluTrend1.summary()"
     ],
     "language": "python",
     "metadata": {},
     "outputs": [
      {
       "html": [
        "<table class=\"simpletable\">\n",
        "<caption>OLS Regression Results</caption>\n",
        "<tr>\n",
        "  <th>Dep. Variable:</th>           <td>ILI</td>       <th>  R-squared:         </th> <td>   0.709</td> \n",
        "</tr>\n",
        "<tr>\n",
        "  <th>Model:</th>                   <td>OLS</td>       <th>  Adj. R-squared:    </th> <td>   0.708</td> \n",
        "</tr>\n",
        "<tr>\n",
        "  <th>Method:</th>             <td>Least Squares</td>  <th>  F-statistic:       </th> <td>   1011.</td> \n",
        "</tr>\n",
        "<tr>\n",
        "  <th>Date:</th>             <td>Mon, 23 Mar 2015</td> <th>  Prob (F-statistic):</th> <td>2.62e-113</td>\n",
        "</tr>\n",
        "<tr>\n",
        "  <th>Time:</th>                 <td>22:23:45</td>     <th>  Log-Likelihood:    </th> <td> -87.974</td> \n",
        "</tr>\n",
        "<tr>\n",
        "  <th>No. Observations:</th>      <td>   417</td>      <th>  AIC:               </th> <td>   179.9</td> \n",
        "</tr>\n",
        "<tr>\n",
        "  <th>Df Residuals:</th>          <td>   415</td>      <th>  BIC:               </th> <td>   188.0</td> \n",
        "</tr>\n",
        "<tr>\n",
        "  <th>Df Model:</th>              <td>     1</td>      <th>                     </th>     <td> </td>    \n",
        "</tr>\n",
        "</table>\n",
        "<table class=\"simpletable\">\n",
        "<tr>\n",
        "     <td></td>        <th>coef</th>     <th>std err</th>      <th>t</th>      <th>P>|t|</th> <th>[95.0% Conf. Int.]</th> \n",
        "</tr>\n",
        "<tr>\n",
        "  <th>const</th>   <td>   -0.4993</td> <td>    0.030</td> <td>  -16.422</td> <td> 0.000</td> <td>   -0.559    -0.440</td>\n",
        "</tr>\n",
        "<tr>\n",
        "  <th>Queries</th> <td>    2.9613</td> <td>    0.093</td> <td>   31.800</td> <td> 0.000</td> <td>    2.778     3.144</td>\n",
        "</tr>\n",
        "</table>\n",
        "<table class=\"simpletable\">\n",
        "<tr>\n",
        "  <th>Omnibus:</th>       <td> 9.797</td> <th>  Durbin-Watson:     </th> <td>   0.283</td>\n",
        "</tr>\n",
        "<tr>\n",
        "  <th>Prob(Omnibus):</th> <td> 0.007</td> <th>  Jarque-Bera (JB):  </th> <td>   9.884</td>\n",
        "</tr>\n",
        "<tr>\n",
        "  <th>Skew:</th>          <td> 0.373</td> <th>  Prob(JB):          </th> <td> 0.00714</td>\n",
        "</tr>\n",
        "<tr>\n",
        "  <th>Kurtosis:</th>      <td> 3.112</td> <th>  Cond. No.          </th> <td>    6.88</td>\n",
        "</tr>\n",
        "</table>"
       ],
       "metadata": {},
       "output_type": "pyout",
       "prompt_number": 51,
       "text": [
        "<class 'statsmodels.iolib.summary.Summary'>\n",
        "\"\"\"\n",
        "                            OLS Regression Results                            \n",
        "==============================================================================\n",
        "Dep. Variable:                    ILI   R-squared:                       0.709\n",
        "Model:                            OLS   Adj. R-squared:                  0.708\n",
        "Method:                 Least Squares   F-statistic:                     1011.\n",
        "Date:                Mon, 23 Mar 2015   Prob (F-statistic):          2.62e-113\n",
        "Time:                        22:23:45   Log-Likelihood:                -87.974\n",
        "No. Observations:                 417   AIC:                             179.9\n",
        "Df Residuals:                     415   BIC:                             188.0\n",
        "Df Model:                           1                                         \n",
        "==============================================================================\n",
        "                 coef    std err          t      P>|t|      [95.0% Conf. Int.]\n",
        "------------------------------------------------------------------------------\n",
        "const         -0.4993      0.030    -16.422      0.000        -0.559    -0.440\n",
        "Queries        2.9613      0.093     31.800      0.000         2.778     3.144\n",
        "==============================================================================\n",
        "Omnibus:                        9.797   Durbin-Watson:                   0.283\n",
        "Prob(Omnibus):                  0.007   Jarque-Bera (JB):                9.884\n",
        "Skew:                           0.373   Prob(JB):                      0.00714\n",
        "Kurtosis:                       3.112   Cond. No.                         6.88\n",
        "==============================================================================\n",
        "\"\"\""
       ]
      }
     ],
     "prompt_number": 51
    },
    {
     "cell_type": "markdown",
     "metadata": {},
     "source": [
      "# Relation between $R^2$ and Correlation in a single variable linear regression\n",
      "For a single variable linear regression model, there is a direct relationship between the R-squared and the correlation between the independent and the dependent variables. It is known that $R^2 = (Correlation)^2$"
     ]
    },
    {
     "cell_type": "code",
     "collapsed": false,
     "input": [
      "# Correlation\n",
      "corr = np.corrcoef(np.log(FluTrain.ILI), FluTrain.Queries)[0][1]\n",
      "print 'Correlation between log(ILI) and queries is: ', corr"
     ],
     "language": "python",
     "metadata": {},
     "outputs": [
      {
       "output_type": "stream",
       "stream": "stdout",
       "text": [
        "Correlation between log(ILI) and queries is:  0.842033286366\n"
       ]
      }
     ],
     "prompt_number": 57
    },
    {
     "cell_type": "code",
     "collapsed": false,
     "input": [
      "print 'R_squared is equal to square(Correlation): ', corr ** 2"
     ],
     "language": "python",
     "metadata": {},
     "outputs": [
      {
       "output_type": "stream",
       "stream": "stdout",
       "text": [
        "R_squared is equal to square(Correlation):  0.709020055348\n"
       ]
      }
     ],
     "prompt_number": 59
    },
    {
     "cell_type": "heading",
     "level": 2,
     "metadata": {},
     "source": [
      "Performance on the Test Set"
     ]
    },
    {
     "cell_type": "markdown",
     "metadata": {},
     "source": [
      "Note : Since the model predicts the log(ILI), we need to convert the predictions by using exp() to get the ILI values in the same scale as our input data.\n"
     ]
    },
    {
     "cell_type": "code",
     "collapsed": false,
     "input": [
      "X_test = FluTest.Queries\n",
      "X_test = sm.add_constant(X_test)\n",
      "y_hat = np.exp(FluTrend1.predict(X_test))\n",
      "y_hat"
     ],
     "language": "python",
     "metadata": {},
     "outputs": [
      {
       "metadata": {},
       "output_type": "pyout",
       "prompt_number": 66,
       "text": [
        "array([ 3.52033171,  2.66268872,  2.67318078,  2.51016006,  2.45162375,\n",
        "        2.6942891 ,  2.78040239,  2.67318078,  2.37569324,  2.35708095,\n",
        "        2.18737772,  1.7969135 ,  1.78986074,  1.71408354,  1.78986074,\n",
        "        1.6158945 ,  1.52933261,  1.49955462,  1.38068852,  1.48780641,\n",
        "        1.3752694 ,  1.31704473,  1.35913934,  1.27625386,  1.31704473,\n",
        "        1.23187226,  1.27625386,  1.33267522,  1.25633465,  1.27625386,\n",
        "        1.26625508,  1.28128281,  1.3484912 ,  1.44740777,  1.52333008,\n",
        "        1.62865414,  1.75500994,  2.09477089,  2.19599687,  2.35708095,\n",
        "        2.4228695 ,  2.33861448,  2.32943556,  2.53995026,  2.44200129,\n",
        "        2.85800628,  2.75861941,  3.69044531,  4.43967921,  4.89835095,\n",
        "        6.2508877 ,  6.59125245])"
       ]
      }
     ],
     "prompt_number": 66
    },
    {
     "cell_type": "code",
     "collapsed": false,
     "input": [
      "FluTest.Week.to_string.split(' - ')"
     ],
     "language": "python",
     "metadata": {},
     "outputs": [
      {
       "ename": "AttributeError",
       "evalue": "'function' object has no attribute 'split'",
       "output_type": "pyerr",
       "traceback": [
        "\u001b[1;31m---------------------------------------------------------------------------\u001b[0m\n\u001b[1;31mAttributeError\u001b[0m                            Traceback (most recent call last)",
        "\u001b[1;32m<ipython-input-70-c04ec1703c04>\u001b[0m in \u001b[0;36m<module>\u001b[1;34m()\u001b[0m\n\u001b[1;32m----> 1\u001b[1;33m \u001b[0mFluTest\u001b[0m\u001b[1;33m.\u001b[0m\u001b[0mWeek\u001b[0m\u001b[1;33m.\u001b[0m\u001b[0mto_string\u001b[0m\u001b[1;33m.\u001b[0m\u001b[0msplit\u001b[0m\u001b[1;33m(\u001b[0m\u001b[1;34m' - '\u001b[0m\u001b[1;33m)\u001b[0m\u001b[1;33m\u001b[0m\u001b[0m\n\u001b[0m",
        "\u001b[1;31mAttributeError\u001b[0m: 'function' object has no attribute 'split'"
       ]
      }
     ],
     "prompt_number": 70
    },
    {
     "cell_type": "code",
     "collapsed": false,
     "input": [
      "pd.read_csv()"
     ],
     "language": "python",
     "metadata": {},
     "outputs": []
    }
   ],
   "metadata": {}
  }
 ]
}