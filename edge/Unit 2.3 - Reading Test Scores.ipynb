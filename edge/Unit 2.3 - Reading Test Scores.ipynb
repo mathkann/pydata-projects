{
 "metadata": {
  "name": "",
  "signature": "sha256:777506bc9b0a39bbb43690a884b470a26d730213eb8df54fb86b70aec5a9d74e"
 },
 "nbformat": 3,
 "nbformat_minor": 0,
 "worksheets": [
  {
   "cells": [
    {
     "cell_type": "code",
     "collapsed": false,
     "input": [
      "%matplotlib inline\n",
      "import numpy as np\n",
      "import pandas as pd\n",
      "import statsmodels.api as sm\n",
      "import statsmodels.formula.api as smf\n",
      "import matplotlib.pyplot as plt\n",
      "import os\n",
      "import math\n",
      "\n",
      "#data folder path\n",
      "data_folder = '..' + os.sep + 'data' + os.sep"
     ],
     "language": "python",
     "metadata": {},
     "outputs": [],
     "prompt_number": 117
    },
    {
     "cell_type": "heading",
     "level": 1,
     "metadata": {},
     "source": [
      "Reading Test Scores Regression"
     ]
    },
    {
     "cell_type": "code",
     "collapsed": false,
     "input": [
      "pisaTrain = pd.read_csv(data_folder + \"pisa2009Train.csv\")\n",
      "pisaTest = pd.read_csv(data_folder + \"pisa2009Test.csv\")\n",
      "\n",
      "# Statistical Summary of dataset\n",
      "pisaTrain.describe().transpose()"
     ],
     "language": "python",
     "metadata": {},
     "outputs": [
      {
       "html": [
        "<div style=\"max-height:1000px;max-width:1500px;overflow:auto;\">\n",
        "<table border=\"1\" class=\"dataframe\">\n",
        "  <thead>\n",
        "    <tr style=\"text-align: right;\">\n",
        "      <th></th>\n",
        "      <th>count</th>\n",
        "      <th>mean</th>\n",
        "      <th>std</th>\n",
        "      <th>min</th>\n",
        "      <th>25%</th>\n",
        "      <th>50%</th>\n",
        "      <th>75%</th>\n",
        "      <th>max</th>\n",
        "    </tr>\n",
        "  </thead>\n",
        "  <tbody>\n",
        "    <tr>\n",
        "      <th>grade</th>\n",
        "      <td> 3663</td>\n",
        "      <td>   10.089817</td>\n",
        "      <td>   0.554375</td>\n",
        "      <td>   8.00</td>\n",
        "      <td>  10.000</td>\n",
        "      <td>   10.00</td>\n",
        "      <td>   10.00</td>\n",
        "      <td>   12</td>\n",
        "    </tr>\n",
        "    <tr>\n",
        "      <th>male</th>\n",
        "      <td> 3663</td>\n",
        "      <td>    0.511057</td>\n",
        "      <td>   0.499946</td>\n",
        "      <td>   0.00</td>\n",
        "      <td>   0.000</td>\n",
        "      <td>    1.00</td>\n",
        "      <td>    1.00</td>\n",
        "      <td>    1</td>\n",
        "    </tr>\n",
        "    <tr>\n",
        "      <th>preschool</th>\n",
        "      <td> 3607</td>\n",
        "      <td>    0.722761</td>\n",
        "      <td>   0.447697</td>\n",
        "      <td>   0.00</td>\n",
        "      <td>   0.000</td>\n",
        "      <td>    1.00</td>\n",
        "      <td>    1.00</td>\n",
        "      <td>    1</td>\n",
        "    </tr>\n",
        "    <tr>\n",
        "      <th>expectBachelors</th>\n",
        "      <td> 3601</td>\n",
        "      <td>    0.785893</td>\n",
        "      <td>   0.410259</td>\n",
        "      <td>   0.00</td>\n",
        "      <td>   1.000</td>\n",
        "      <td>    1.00</td>\n",
        "      <td>    1.00</td>\n",
        "      <td>    1</td>\n",
        "    </tr>\n",
        "    <tr>\n",
        "      <th>motherHS</th>\n",
        "      <td> 3566</td>\n",
        "      <td>    0.879978</td>\n",
        "      <td>   0.325033</td>\n",
        "      <td>   0.00</td>\n",
        "      <td>   1.000</td>\n",
        "      <td>    1.00</td>\n",
        "      <td>    1.00</td>\n",
        "      <td>    1</td>\n",
        "    </tr>\n",
        "    <tr>\n",
        "      <th>motherBachelors</th>\n",
        "      <td> 3266</td>\n",
        "      <td>    0.348132</td>\n",
        "      <td>   0.476451</td>\n",
        "      <td>   0.00</td>\n",
        "      <td>   0.000</td>\n",
        "      <td>    0.00</td>\n",
        "      <td>    1.00</td>\n",
        "      <td>    1</td>\n",
        "    </tr>\n",
        "    <tr>\n",
        "      <th>motherWork</th>\n",
        "      <td> 3570</td>\n",
        "      <td>    0.734454</td>\n",
        "      <td>   0.441685</td>\n",
        "      <td>   0.00</td>\n",
        "      <td>   0.000</td>\n",
        "      <td>    1.00</td>\n",
        "      <td>    1.00</td>\n",
        "      <td>    1</td>\n",
        "    </tr>\n",
        "    <tr>\n",
        "      <th>fatherHS</th>\n",
        "      <td> 3418</td>\n",
        "      <td>    0.859274</td>\n",
        "      <td>   0.347789</td>\n",
        "      <td>   0.00</td>\n",
        "      <td>   1.000</td>\n",
        "      <td>    1.00</td>\n",
        "      <td>    1.00</td>\n",
        "      <td>    1</td>\n",
        "    </tr>\n",
        "    <tr>\n",
        "      <th>fatherBachelors</th>\n",
        "      <td> 3094</td>\n",
        "      <td>    0.331933</td>\n",
        "      <td>   0.470983</td>\n",
        "      <td>   0.00</td>\n",
        "      <td>   0.000</td>\n",
        "      <td>    0.00</td>\n",
        "      <td>    1.00</td>\n",
        "      <td>    1</td>\n",
        "    </tr>\n",
        "    <tr>\n",
        "      <th>fatherWork</th>\n",
        "      <td> 3430</td>\n",
        "      <td>    0.853061</td>\n",
        "      <td>   0.354096</td>\n",
        "      <td>   0.00</td>\n",
        "      <td>   1.000</td>\n",
        "      <td>    1.00</td>\n",
        "      <td>    1.00</td>\n",
        "      <td>    1</td>\n",
        "    </tr>\n",
        "    <tr>\n",
        "      <th>selfBornUS</th>\n",
        "      <td> 3594</td>\n",
        "      <td>    0.931274</td>\n",
        "      <td>   0.253022</td>\n",
        "      <td>   0.00</td>\n",
        "      <td>   1.000</td>\n",
        "      <td>    1.00</td>\n",
        "      <td>    1.00</td>\n",
        "      <td>    1</td>\n",
        "    </tr>\n",
        "    <tr>\n",
        "      <th>motherBornUS</th>\n",
        "      <td> 3592</td>\n",
        "      <td>    0.772550</td>\n",
        "      <td>   0.419244</td>\n",
        "      <td>   0.00</td>\n",
        "      <td>   1.000</td>\n",
        "      <td>    1.00</td>\n",
        "      <td>    1.00</td>\n",
        "      <td>    1</td>\n",
        "    </tr>\n",
        "    <tr>\n",
        "      <th>fatherBornUS</th>\n",
        "      <td> 3550</td>\n",
        "      <td>    0.766761</td>\n",
        "      <td>   0.422953</td>\n",
        "      <td>   0.00</td>\n",
        "      <td>   1.000</td>\n",
        "      <td>    1.00</td>\n",
        "      <td>    1.00</td>\n",
        "      <td>    1</td>\n",
        "    </tr>\n",
        "    <tr>\n",
        "      <th>englishAtHome</th>\n",
        "      <td> 3592</td>\n",
        "      <td>    0.871659</td>\n",
        "      <td>   0.334515</td>\n",
        "      <td>   0.00</td>\n",
        "      <td>   1.000</td>\n",
        "      <td>    1.00</td>\n",
        "      <td>    1.00</td>\n",
        "      <td>    1</td>\n",
        "    </tr>\n",
        "    <tr>\n",
        "      <th>computerForSchoolwork</th>\n",
        "      <td> 3598</td>\n",
        "      <td>    0.899389</td>\n",
        "      <td>   0.300855</td>\n",
        "      <td>   0.00</td>\n",
        "      <td>   1.000</td>\n",
        "      <td>    1.00</td>\n",
        "      <td>    1.00</td>\n",
        "      <td>    1</td>\n",
        "    </tr>\n",
        "    <tr>\n",
        "      <th>read30MinsADay</th>\n",
        "      <td> 3629</td>\n",
        "      <td>    0.289887</td>\n",
        "      <td>   0.453772</td>\n",
        "      <td>   0.00</td>\n",
        "      <td>   0.000</td>\n",
        "      <td>    0.00</td>\n",
        "      <td>    1.00</td>\n",
        "      <td>    1</td>\n",
        "    </tr>\n",
        "    <tr>\n",
        "      <th>minutesPerWeekEnglish</th>\n",
        "      <td> 3477</td>\n",
        "      <td>  266.208225</td>\n",
        "      <td> 148.403525</td>\n",
        "      <td>   0.00</td>\n",
        "      <td> 225.000</td>\n",
        "      <td>  250.00</td>\n",
        "      <td>  300.00</td>\n",
        "      <td> 2400</td>\n",
        "    </tr>\n",
        "    <tr>\n",
        "      <th>studentsInEnglish</th>\n",
        "      <td> 3414</td>\n",
        "      <td>   24.499414</td>\n",
        "      <td>   7.184348</td>\n",
        "      <td>   1.00</td>\n",
        "      <td>  20.000</td>\n",
        "      <td>   25.00</td>\n",
        "      <td>   30.00</td>\n",
        "      <td>   75</td>\n",
        "    </tr>\n",
        "    <tr>\n",
        "      <th>schoolHasLibrary</th>\n",
        "      <td> 3520</td>\n",
        "      <td>    0.967614</td>\n",
        "      <td>   0.177049</td>\n",
        "      <td>   0.00</td>\n",
        "      <td>   1.000</td>\n",
        "      <td>    1.00</td>\n",
        "      <td>    1.00</td>\n",
        "      <td>    1</td>\n",
        "    </tr>\n",
        "    <tr>\n",
        "      <th>publicSchool</th>\n",
        "      <td> 3663</td>\n",
        "      <td>    0.933934</td>\n",
        "      <td>   0.248431</td>\n",
        "      <td>   0.00</td>\n",
        "      <td>   1.000</td>\n",
        "      <td>    1.00</td>\n",
        "      <td>    1.00</td>\n",
        "      <td>    1</td>\n",
        "    </tr>\n",
        "    <tr>\n",
        "      <th>urban</th>\n",
        "      <td> 3663</td>\n",
        "      <td>    0.384930</td>\n",
        "      <td>   0.486645</td>\n",
        "      <td>   0.00</td>\n",
        "      <td>   0.000</td>\n",
        "      <td>    0.00</td>\n",
        "      <td>    1.00</td>\n",
        "      <td>    1</td>\n",
        "    </tr>\n",
        "    <tr>\n",
        "      <th>schoolSize</th>\n",
        "      <td> 3501</td>\n",
        "      <td> 1369.316767</td>\n",
        "      <td> 869.983618</td>\n",
        "      <td> 100.00</td>\n",
        "      <td> 712.000</td>\n",
        "      <td> 1212.00</td>\n",
        "      <td> 1900.00</td>\n",
        "      <td> 6694</td>\n",
        "    </tr>\n",
        "    <tr>\n",
        "      <th>readingScore</th>\n",
        "      <td> 3663</td>\n",
        "      <td>  497.911403</td>\n",
        "      <td>  95.515153</td>\n",
        "      <td> 168.55</td>\n",
        "      <td> 431.705</td>\n",
        "      <td>  499.66</td>\n",
        "      <td>  566.23</td>\n",
        "      <td>  746</td>\n",
        "    </tr>\n",
        "  </tbody>\n",
        "</table>\n",
        "</div>"
       ],
       "metadata": {},
       "output_type": "pyout",
       "prompt_number": 118,
       "text": [
        "                       count         mean         std     min      25%  \\\n",
        "grade                   3663    10.089817    0.554375    8.00   10.000   \n",
        "male                    3663     0.511057    0.499946    0.00    0.000   \n",
        "preschool               3607     0.722761    0.447697    0.00    0.000   \n",
        "expectBachelors         3601     0.785893    0.410259    0.00    1.000   \n",
        "motherHS                3566     0.879978    0.325033    0.00    1.000   \n",
        "motherBachelors         3266     0.348132    0.476451    0.00    0.000   \n",
        "motherWork              3570     0.734454    0.441685    0.00    0.000   \n",
        "fatherHS                3418     0.859274    0.347789    0.00    1.000   \n",
        "fatherBachelors         3094     0.331933    0.470983    0.00    0.000   \n",
        "fatherWork              3430     0.853061    0.354096    0.00    1.000   \n",
        "selfBornUS              3594     0.931274    0.253022    0.00    1.000   \n",
        "motherBornUS            3592     0.772550    0.419244    0.00    1.000   \n",
        "fatherBornUS            3550     0.766761    0.422953    0.00    1.000   \n",
        "englishAtHome           3592     0.871659    0.334515    0.00    1.000   \n",
        "computerForSchoolwork   3598     0.899389    0.300855    0.00    1.000   \n",
        "read30MinsADay          3629     0.289887    0.453772    0.00    0.000   \n",
        "minutesPerWeekEnglish   3477   266.208225  148.403525    0.00  225.000   \n",
        "studentsInEnglish       3414    24.499414    7.184348    1.00   20.000   \n",
        "schoolHasLibrary        3520     0.967614    0.177049    0.00    1.000   \n",
        "publicSchool            3663     0.933934    0.248431    0.00    1.000   \n",
        "urban                   3663     0.384930    0.486645    0.00    0.000   \n",
        "schoolSize              3501  1369.316767  869.983618  100.00  712.000   \n",
        "readingScore            3663   497.911403   95.515153  168.55  431.705   \n",
        "\n",
        "                           50%      75%   max  \n",
        "grade                    10.00    10.00    12  \n",
        "male                      1.00     1.00     1  \n",
        "preschool                 1.00     1.00     1  \n",
        "expectBachelors           1.00     1.00     1  \n",
        "motherHS                  1.00     1.00     1  \n",
        "motherBachelors           0.00     1.00     1  \n",
        "motherWork                1.00     1.00     1  \n",
        "fatherHS                  1.00     1.00     1  \n",
        "fatherBachelors           0.00     1.00     1  \n",
        "fatherWork                1.00     1.00     1  \n",
        "selfBornUS                1.00     1.00     1  \n",
        "motherBornUS              1.00     1.00     1  \n",
        "fatherBornUS              1.00     1.00     1  \n",
        "englishAtHome             1.00     1.00     1  \n",
        "computerForSchoolwork     1.00     1.00     1  \n",
        "read30MinsADay            0.00     1.00     1  \n",
        "minutesPerWeekEnglish   250.00   300.00  2400  \n",
        "studentsInEnglish        25.00    30.00    75  \n",
        "schoolHasLibrary          1.00     1.00     1  \n",
        "publicSchool              1.00     1.00     1  \n",
        "urban                     0.00     1.00     1  \n",
        "schoolSize             1212.00  1900.00  6694  \n",
        "readingScore            499.66   566.23   746  "
       ]
      }
     ],
     "prompt_number": 118
    },
    {
     "cell_type": "code",
     "collapsed": false,
     "input": [
      "# view the data types\n",
      "pisaTrain.dtypes"
     ],
     "language": "python",
     "metadata": {},
     "outputs": [
      {
       "metadata": {},
       "output_type": "pyout",
       "prompt_number": 119,
       "text": [
        "grade                      int64\n",
        "male                       int64\n",
        "raceeth                   object\n",
        "preschool                float64\n",
        "expectBachelors          float64\n",
        "motherHS                 float64\n",
        "motherBachelors          float64\n",
        "motherWork               float64\n",
        "fatherHS                 float64\n",
        "fatherBachelors          float64\n",
        "fatherWork               float64\n",
        "selfBornUS               float64\n",
        "motherBornUS             float64\n",
        "fatherBornUS             float64\n",
        "englishAtHome            float64\n",
        "computerForSchoolwork    float64\n",
        "read30MinsADay           float64\n",
        "minutesPerWeekEnglish    float64\n",
        "studentsInEnglish        float64\n",
        "schoolHasLibrary         float64\n",
        "publicSchool               int64\n",
        "urban                      int64\n",
        "schoolSize               float64\n",
        "readingScore             float64\n",
        "dtype: object"
       ]
      }
     ],
     "prompt_number": 119
    },
    {
     "cell_type": "heading",
     "level": 2,
     "metadata": {},
     "source": [
      "Summarizing the dataset"
     ]
    },
    {
     "cell_type": "code",
     "collapsed": false,
     "input": [
      "# Avergage reading test score of males\n",
      "print 'Average Test Score of males', pisaTrain[pisaTrain.male == 1].readingScore.mean()\n",
      "print 'Average Test Score of females', pisaTrain[pisaTrain.male == 0].readingScore.mean()"
     ],
     "language": "python",
     "metadata": {},
     "outputs": [
      {
       "output_type": "stream",
       "stream": "stdout",
       "text": [
        "Average Test Score of males 483.532478632\n",
        "Average Test Score of females 512.940630932\n"
       ]
      }
     ],
     "prompt_number": 120
    },
    {
     "cell_type": "heading",
     "level": 2,
     "metadata": {},
     "source": [
      "Locating missing values"
     ]
    },
    {
     "cell_type": "code",
     "collapsed": false,
     "input": [
      "# print the number of missing values\n",
      "pd.isnull(pisaTrain).sum()"
     ],
     "language": "python",
     "metadata": {},
     "outputs": [
      {
       "metadata": {},
       "output_type": "pyout",
       "prompt_number": 121,
       "text": [
        "grade                      0\n",
        "male                       0\n",
        "raceeth                   35\n",
        "preschool                 56\n",
        "expectBachelors           62\n",
        "motherHS                  97\n",
        "motherBachelors          397\n",
        "motherWork                93\n",
        "fatherHS                 245\n",
        "fatherBachelors          569\n",
        "fatherWork               233\n",
        "selfBornUS                69\n",
        "motherBornUS              71\n",
        "fatherBornUS             113\n",
        "englishAtHome             71\n",
        "computerForSchoolwork     65\n",
        "read30MinsADay            34\n",
        "minutesPerWeekEnglish    186\n",
        "studentsInEnglish        249\n",
        "schoolHasLibrary         143\n",
        "publicSchool               0\n",
        "urban                      0\n",
        "schoolSize               162\n",
        "readingScore               0\n",
        "dtype: int64"
       ]
      }
     ],
     "prompt_number": 121
    },
    {
     "cell_type": "heading",
     "level": 2,
     "metadata": {},
     "source": [
      "Removing missing values"
     ]
    },
    {
     "cell_type": "code",
     "collapsed": false,
     "input": [
      "# remove missing values\n",
      "pisaTrain = pisaTrain.dropna()\n",
      "\n",
      "pisaTest = pisaTest.dropna()\n"
     ],
     "language": "python",
     "metadata": {},
     "outputs": [],
     "prompt_number": 122
    },
    {
     "cell_type": "heading",
     "level": 2,
     "metadata": {},
     "source": [
      "Factor variables"
     ]
    },
    {
     "cell_type": "code",
     "collapsed": false,
     "input": [
      "# Unordered factors\n",
      "print pisaTrain.grade.unique()\n",
      "print pisaTrain.raceeth.unique()"
     ],
     "language": "python",
     "metadata": {},
     "outputs": [
      {
       "output_type": "stream",
       "stream": "stdout",
       "text": [
        "[11 10  9 12  8]\n",
        "['White' 'Black' 'Hispanic' 'More than one race'\n",
        " 'American Indian/Alaska Native' 'Asian'\n",
        " 'Native Hawaiian/Other Pacific Islander']\n"
       ]
      }
     ],
     "prompt_number": 123
    },
    {
     "cell_type": "heading",
     "level": 2,
     "metadata": {},
     "source": [
      "Encode factor variabless for regression models"
     ]
    },
    {
     "cell_type": "code",
     "collapsed": false,
     "input": [
      "pisaTrain.raceeth.factorize()\n",
      "pisaTrain.male.factorize()\n",
      "pisaTrain.grade.factorize()\n",
      "#pisaTrain.raceeth.dtypes"
     ],
     "language": "python",
     "metadata": {},
     "outputs": [
      {
       "metadata": {},
       "output_type": "pyout",
       "prompt_number": 124,
       "text": [
        "(array([0, 1, 1, ..., 2, 1, 1]), Int64Index([11, 10, 9, 12, 8], dtype='int64'))"
       ]
      }
     ],
     "prompt_number": 124
    },
    {
     "cell_type": "heading",
     "level": 2,
     "metadata": {},
     "source": [
      "Building a model"
     ]
    },
    {
     "cell_type": "code",
     "collapsed": false,
     "input": [
      "# Construct the formula in the patsy format using the column names of our dataframe\n",
      "# we are using R style formulas here ... for more info - http://statsmodels.sourceforge.net/devel/example_formulas.html\n",
      "# Note: to encode any numerical columns as categorical, use C(numCol) explicitly in the formula\n",
      "\n",
      "all_columns = ' + '.join(pisaTrain.columns - ['readingScore'])\n",
      "lin_reg_formula = 'readingScore ~ ' + all_columns\n",
      "print lin_reg_formula"
     ],
     "language": "python",
     "metadata": {},
     "outputs": [
      {
       "output_type": "stream",
       "stream": "stdout",
       "text": [
        "readingScore ~ computerForSchoolwork + englishAtHome + expectBachelors + fatherBachelors + fatherBornUS + fatherHS + fatherWork + grade + male + minutesPerWeekEnglish + motherBachelors + motherBornUS + motherHS + motherWork + preschool + publicSchool + raceeth + read30MinsADay + schoolHasLibrary + schoolSize + selfBornUS + studentsInEnglish + urban\n"
       ]
      }
     ],
     "prompt_number": 125
    },
    {
     "cell_type": "code",
     "collapsed": false,
     "input": [
      "# Linear Regression Model using the formula interface\n",
      "lmScore = smf.ols(lin_reg_formula, pisaTrain).fit()\n",
      "lmScore.summary()"
     ],
     "language": "python",
     "metadata": {},
     "outputs": [
      {
       "html": [
        "<table class=\"simpletable\">\n",
        "<caption>OLS Regression Results</caption>\n",
        "<tr>\n",
        "  <th>Dep. Variable:</th>      <td>readingScore</td>   <th>  R-squared:         </th> <td>   0.325</td> \n",
        "</tr>\n",
        "<tr>\n",
        "  <th>Model:</th>                   <td>OLS</td>       <th>  Adj. R-squared:    </th> <td>   0.317</td> \n",
        "</tr>\n",
        "<tr>\n",
        "  <th>Method:</th>             <td>Least Squares</td>  <th>  F-statistic:       </th> <td>   41.04</td> \n",
        "</tr>\n",
        "<tr>\n",
        "  <th>Date:</th>             <td>Mon, 23 Mar 2015</td> <th>  Prob (F-statistic):</th> <td>1.72e-180</td>\n",
        "</tr>\n",
        "<tr>\n",
        "  <th>Time:</th>                 <td>20:30:57</td>     <th>  Log-Likelihood:    </th> <td> -13795.</td> \n",
        "</tr>\n",
        "<tr>\n",
        "  <th>No. Observations:</th>      <td>  2414</td>      <th>  AIC:               </th> <td>2.765e+04</td>\n",
        "</tr>\n",
        "<tr>\n",
        "  <th>Df Residuals:</th>          <td>  2385</td>      <th>  BIC:               </th> <td>2.781e+04</td>\n",
        "</tr>\n",
        "<tr>\n",
        "  <th>Df Model:</th>              <td>    28</td>      <th>                     </th>     <td> </td>    \n",
        "</tr>\n",
        "</table>\n",
        "<table class=\"simpletable\">\n",
        "<tr>\n",
        "                          <td></td>                             <th>coef</th>     <th>std err</th>      <th>t</th>      <th>P>|t|</th> <th>[95.0% Conf. Int.]</th> \n",
        "</tr>\n",
        "<tr>\n",
        "  <th>Intercept</th>                                         <td>   76.4890</td> <td>   37.303</td> <td>    2.050</td> <td> 0.040</td> <td>    3.340   149.638</td>\n",
        "</tr>\n",
        "<tr>\n",
        "  <th>raceeth[T.Asian]</th>                                  <td>   63.1670</td> <td>   18.973</td> <td>    3.329</td> <td> 0.001</td> <td>   25.962   100.372</td>\n",
        "</tr>\n",
        "<tr>\n",
        "  <th>raceeth[T.Black]</th>                                  <td>    0.2650</td> <td>   17.370</td> <td>    0.015</td> <td> 0.988</td> <td>  -33.796    34.326</td>\n",
        "</tr>\n",
        "<tr>\n",
        "  <th>raceeth[T.Hispanic]</th>                               <td>   28.3018</td> <td>   17.259</td> <td>    1.640</td> <td> 0.101</td> <td>   -5.542    62.146</td>\n",
        "</tr>\n",
        "<tr>\n",
        "  <th>raceeth[T.More than one race]</th>                     <td>   50.3548</td> <td>   18.570</td> <td>    2.712</td> <td> 0.007</td> <td>   13.940    86.770</td>\n",
        "</tr>\n",
        "<tr>\n",
        "  <th>raceeth[T.Native Hawaiian/Other Pacific Islander]</th> <td>   62.1757</td> <td>   23.783</td> <td>    2.614</td> <td> 0.009</td> <td>   15.539   108.813</td>\n",
        "</tr>\n",
        "<tr>\n",
        "  <th>raceeth[T.White]</th>                                  <td>   67.2773</td> <td>   16.787</td> <td>    4.008</td> <td> 0.000</td> <td>   34.359   100.196</td>\n",
        "</tr>\n",
        "<tr>\n",
        "  <th>computerForSchoolwork</th>                             <td>   22.5002</td> <td>    5.703</td> <td>    3.946</td> <td> 0.000</td> <td>   11.318    33.683</td>\n",
        "</tr>\n",
        "<tr>\n",
        "  <th>englishAtHome</th>                                     <td>    8.0357</td> <td>    6.859</td> <td>    1.171</td> <td> 0.242</td> <td>   -5.415    21.487</td>\n",
        "</tr>\n",
        "<tr>\n",
        "  <th>expectBachelors</th>                                   <td>   55.2671</td> <td>    4.294</td> <td>   12.871</td> <td> 0.000</td> <td>   46.847    63.687</td>\n",
        "</tr>\n",
        "<tr>\n",
        "  <th>fatherBachelors</th>                                   <td>   16.9298</td> <td>    3.995</td> <td>    4.237</td> <td> 0.000</td> <td>    9.095    24.764</td>\n",
        "</tr>\n",
        "<tr>\n",
        "  <th>fatherBornUS</th>                                      <td>    4.3070</td> <td>    6.264</td> <td>    0.688</td> <td> 0.492</td> <td>   -7.976    16.590</td>\n",
        "</tr>\n",
        "<tr>\n",
        "  <th>fatherHS</th>                                          <td>    4.0182</td> <td>    5.579</td> <td>    0.720</td> <td> 0.471</td> <td>   -6.923    14.959</td>\n",
        "</tr>\n",
        "<tr>\n",
        "  <th>fatherWork</th>                                        <td>    5.8428</td> <td>    4.396</td> <td>    1.329</td> <td> 0.184</td> <td>   -2.778    14.463</td>\n",
        "</tr>\n",
        "<tr>\n",
        "  <th>grade</th>                                             <td>   29.5427</td> <td>    2.937</td> <td>   10.057</td> <td> 0.000</td> <td>   23.783    35.303</td>\n",
        "</tr>\n",
        "<tr>\n",
        "  <th>male</th>                                              <td>  -14.5217</td> <td>    3.156</td> <td>   -4.601</td> <td> 0.000</td> <td>  -20.710    -8.333</td>\n",
        "</tr>\n",
        "<tr>\n",
        "  <th>minutesPerWeekEnglish</th>                             <td>    0.0128</td> <td>    0.011</td> <td>    1.194</td> <td> 0.233</td> <td>   -0.008     0.034</td>\n",
        "</tr>\n",
        "<tr>\n",
        "  <th>motherBachelors</th>                                   <td>   12.6381</td> <td>    3.861</td> <td>    3.273</td> <td> 0.001</td> <td>    5.066    20.210</td>\n",
        "</tr>\n",
        "<tr>\n",
        "  <th>motherBornUS</th>                                      <td>   -8.7982</td> <td>    6.588</td> <td>   -1.336</td> <td> 0.182</td> <td>  -21.716     4.120</td>\n",
        "</tr>\n",
        "<tr>\n",
        "  <th>motherHS</th>                                          <td>    6.0588</td> <td>    6.091</td> <td>    0.995</td> <td> 0.320</td> <td>   -5.886    18.004</td>\n",
        "</tr>\n",
        "<tr>\n",
        "  <th>motherWork</th>                                        <td>   -2.8091</td> <td>    3.522</td> <td>   -0.798</td> <td> 0.425</td> <td>   -9.715     4.097</td>\n",
        "</tr>\n",
        "<tr>\n",
        "  <th>preschool</th>                                         <td>   -4.4637</td> <td>    3.486</td> <td>   -1.280</td> <td> 0.201</td> <td>  -11.300     2.372</td>\n",
        "</tr>\n",
        "<tr>\n",
        "  <th>publicSchool</th>                                      <td>  -16.8575</td> <td>    6.726</td> <td>   -2.506</td> <td> 0.012</td> <td>  -30.046    -3.669</td>\n",
        "</tr>\n",
        "<tr>\n",
        "  <th>read30MinsADay</th>                                    <td>   34.8719</td> <td>    3.408</td> <td>   10.231</td> <td> 0.000</td> <td>   28.188    41.556</td>\n",
        "</tr>\n",
        "<tr>\n",
        "  <th>schoolHasLibrary</th>                                  <td>   12.2151</td> <td>    9.265</td> <td>    1.318</td> <td> 0.187</td> <td>   -5.953    30.383</td>\n",
        "</tr>\n",
        "<tr>\n",
        "  <th>schoolSize</th>                                        <td>    0.0065</td> <td>    0.002</td> <td>    2.977</td> <td> 0.003</td> <td>    0.002     0.011</td>\n",
        "</tr>\n",
        "<tr>\n",
        "  <th>selfBornUS</th>                                        <td>   -3.8063</td> <td>    7.324</td> <td>   -0.520</td> <td> 0.603</td> <td>  -18.168    10.555</td>\n",
        "</tr>\n",
        "<tr>\n",
        "  <th>studentsInEnglish</th>                                 <td>   -0.2866</td> <td>    0.228</td> <td>   -1.258</td> <td> 0.208</td> <td>   -0.733     0.160</td>\n",
        "</tr>\n",
        "<tr>\n",
        "  <th>urban</th>                                             <td>   -0.1101</td> <td>    3.963</td> <td>   -0.028</td> <td> 0.978</td> <td>   -7.881     7.661</td>\n",
        "</tr>\n",
        "</table>\n",
        "<table class=\"simpletable\">\n",
        "<tr>\n",
        "  <th>Omnibus:</th>       <td> 8.273</td> <th>  Durbin-Watson:     </th> <td>   1.998</td>\n",
        "</tr>\n",
        "<tr>\n",
        "  <th>Prob(Omnibus):</th> <td> 0.016</td> <th>  Jarque-Bera (JB):  </th> <td>   8.362</td>\n",
        "</tr>\n",
        "<tr>\n",
        "  <th>Skew:</th>          <td>-0.141</td> <th>  Prob(JB):          </th> <td>  0.0153</td>\n",
        "</tr>\n",
        "<tr>\n",
        "  <th>Kurtosis:</th>      <td> 2.943</td> <th>  Cond. No.          </th> <td>5.17e+04</td>\n",
        "</tr>\n",
        "</table>"
       ],
       "metadata": {},
       "output_type": "pyout",
       "prompt_number": 126,
       "text": [
        "<class 'statsmodels.iolib.summary.Summary'>\n",
        "\"\"\"\n",
        "                            OLS Regression Results                            \n",
        "==============================================================================\n",
        "Dep. Variable:           readingScore   R-squared:                       0.325\n",
        "Model:                            OLS   Adj. R-squared:                  0.317\n",
        "Method:                 Least Squares   F-statistic:                     41.04\n",
        "Date:                Mon, 23 Mar 2015   Prob (F-statistic):          1.72e-180\n",
        "Time:                        20:30:57   Log-Likelihood:                -13795.\n",
        "No. Observations:                2414   AIC:                         2.765e+04\n",
        "Df Residuals:                    2385   BIC:                         2.781e+04\n",
        "Df Model:                          28                                         \n",
        "=====================================================================================================================\n",
        "                                                        coef    std err          t      P>|t|      [95.0% Conf. Int.]\n",
        "---------------------------------------------------------------------------------------------------------------------\n",
        "Intercept                                            76.4890     37.303      2.050      0.040         3.340   149.638\n",
        "raceeth[T.Asian]                                     63.1670     18.973      3.329      0.001        25.962   100.372\n",
        "raceeth[T.Black]                                      0.2650     17.370      0.015      0.988       -33.796    34.326\n",
        "raceeth[T.Hispanic]                                  28.3018     17.259      1.640      0.101        -5.542    62.146\n",
        "raceeth[T.More than one race]                        50.3548     18.570      2.712      0.007        13.940    86.770\n",
        "raceeth[T.Native Hawaiian/Other Pacific Islander]    62.1757     23.783      2.614      0.009        15.539   108.813\n",
        "raceeth[T.White]                                     67.2773     16.787      4.008      0.000        34.359   100.196\n",
        "computerForSchoolwork                                22.5002      5.703      3.946      0.000        11.318    33.683\n",
        "englishAtHome                                         8.0357      6.859      1.171      0.242        -5.415    21.487\n",
        "expectBachelors                                      55.2671      4.294     12.871      0.000        46.847    63.687\n",
        "fatherBachelors                                      16.9298      3.995      4.237      0.000         9.095    24.764\n",
        "fatherBornUS                                          4.3070      6.264      0.688      0.492        -7.976    16.590\n",
        "fatherHS                                              4.0182      5.579      0.720      0.471        -6.923    14.959\n",
        "fatherWork                                            5.8428      4.396      1.329      0.184        -2.778    14.463\n",
        "grade                                                29.5427      2.937     10.057      0.000        23.783    35.303\n",
        "male                                                -14.5217      3.156     -4.601      0.000       -20.710    -8.333\n",
        "minutesPerWeekEnglish                                 0.0128      0.011      1.194      0.233        -0.008     0.034\n",
        "motherBachelors                                      12.6381      3.861      3.273      0.001         5.066    20.210\n",
        "motherBornUS                                         -8.7982      6.588     -1.336      0.182       -21.716     4.120\n",
        "motherHS                                              6.0588      6.091      0.995      0.320        -5.886    18.004\n",
        "motherWork                                           -2.8091      3.522     -0.798      0.425        -9.715     4.097\n",
        "preschool                                            -4.4637      3.486     -1.280      0.201       -11.300     2.372\n",
        "publicSchool                                        -16.8575      6.726     -2.506      0.012       -30.046    -3.669\n",
        "read30MinsADay                                       34.8719      3.408     10.231      0.000        28.188    41.556\n",
        "schoolHasLibrary                                     12.2151      9.265      1.318      0.187        -5.953    30.383\n",
        "schoolSize                                            0.0065      0.002      2.977      0.003         0.002     0.011\n",
        "selfBornUS                                           -3.8063      7.324     -0.520      0.603       -18.168    10.555\n",
        "studentsInEnglish                                    -0.2866      0.228     -1.258      0.208        -0.733     0.160\n",
        "urban                                                -0.1101      3.963     -0.028      0.978        -7.881     7.661\n",
        "==============================================================================\n",
        "Omnibus:                        8.273   Durbin-Watson:                   1.998\n",
        "Prob(Omnibus):                  0.016   Jarque-Bera (JB):                8.362\n",
        "Skew:                          -0.141   Prob(JB):                       0.0153\n",
        "Kurtosis:                       2.943   Cond. No.                     5.17e+04\n",
        "==============================================================================\n",
        "\n",
        "Warnings:\n",
        "[1] The condition number is large, 5.17e+04. This might indicate that there are\n",
        "strong multicollinearity or other numerical problems.\n",
        "\"\"\""
       ]
      }
     ],
     "prompt_number": 126
    },
    {
     "cell_type": "heading",
     "level": 2,
     "metadata": {},
     "source": [
      "Computing the root-mean squared error of the model "
     ]
    },
    {
     "cell_type": "markdown",
     "metadata": {},
     "source": [
      "$\\textrm{RMSE} = \\sqrt{\\frac{1}{n} \\sum_{i=1}^{n} (y_i - \\hat{y}_i)^2}$\n",
      "\n",
      "where $\\hat{y}$  is the predicted value and $y$ is the original value."
     ]
    },
    {
     "cell_type": "code",
     "collapsed": false,
     "input": [
      "# Calculate training RMSE \n",
      "rmse = math.sqrt(np.mean((pisaTrain.readingScore - lmScore.predict()) ** 2)) \n",
      "print \"Root Mean Squared Error RMSE:\", rmse"
     ],
     "language": "python",
     "metadata": {},
     "outputs": [
      {
       "output_type": "stream",
       "stream": "stdout",
       "text": [
        "Root Mean Squared Error RMSE: 73.365551433\n"
       ]
      }
     ],
     "prompt_number": 127
    },
    {
     "cell_type": "heading",
     "level": 2,
     "metadata": {},
     "source": [
      "Predicting on unseen data"
     ]
    },
    {
     "cell_type": "code",
     "collapsed": false,
     "input": [
      "# Use our model to predict on the test data\n",
      "y_hat = lmScore.predict(pisaTest.iloc[:,0:-1]) # all columns except the last one (readingScore)\n",
      "print 'Range of the Predicted Score:', y_hat.max() - y_hat.min()\n"
     ],
     "language": "python",
     "metadata": {},
     "outputs": [
      {
       "output_type": "stream",
       "stream": "stdout",
       "text": [
        "Range of the Predicted Score: 284.468311795\n"
       ]
      }
     ],
     "prompt_number": 128
    },
    {
     "cell_type": "heading",
     "level": 2,
     "metadata": {},
     "source": [
      "Test Set SSE and RMSE"
     ]
    },
    {
     "cell_type": "code",
     "collapsed": false,
     "input": [
      "sse_test = np.sum((pisaTest.readingScore - y_hat) ** 2)\n",
      "print 'Sum of Squared Errors (SSE): ', sse_test"
     ],
     "language": "python",
     "metadata": {},
     "outputs": [
      {
       "output_type": "stream",
       "stream": "stdout",
       "text": [
        "Sum of Squared Errors (SSE):  5762082.37114\n"
       ]
      }
     ],
     "prompt_number": 129
    },
    {
     "cell_type": "code",
     "collapsed": false,
     "input": [
      "rmse_test = math.sqrt(sse_test / len(pisaTest))\n",
      "print 'RMSE on the Test set: ', rmse_test"
     ],
     "language": "python",
     "metadata": {},
     "outputs": [
      {
       "output_type": "stream",
       "stream": "stdout",
       "text": [
        "RMSE on the Test set:  76.2907938311\n"
       ]
      }
     ],
     "prompt_number": 130
    },
    {
     "cell_type": "heading",
     "level": 2,
     "metadata": {},
     "source": [
      "Test-set R-squared"
     ]
    },
    {
     "cell_type": "markdown",
     "metadata": {},
     "source": [
      "$R^2 = 1 - \\frac{SSE}{SST}$ \n"
     ]
    },
    {
     "cell_type": "code",
     "collapsed": false,
     "input": [
      "sst_test = np.sum((pisaTest.readingScore - np.mean(pisaTest.readingScore)) ** 2)\n",
      "print 'Total Sum of Squares (SST): ', sst_test"
     ],
     "language": "python",
     "metadata": {},
     "outputs": [
      {
       "output_type": "stream",
       "stream": "stdout",
       "text": [
        "Total Sum of Squares (SST):  7798774.96383\n"
       ]
      }
     ],
     "prompt_number": 131
    },
    {
     "cell_type": "code",
     "collapsed": false,
     "input": [
      "r_squared_test = 1 - (sse_test / sst_test)\n",
      "print 'R_squared of the model on test data: ', r_squared_test"
     ],
     "language": "python",
     "metadata": {},
     "outputs": [
      {
       "output_type": "stream",
       "stream": "stdout",
       "text": [
        "R_squared of the model on test data:  0.261155450969\n"
       ]
      }
     ],
     "prompt_number": 132
    },
    {
     "cell_type": "code",
     "collapsed": false,
     "input": [
      "from IPython.core.display import HTML\n",
      "\n",
      "\n",
      "def css_styling():\n",
      "    styles = open(\"styles/custom.css\", \"r\").read()\n",
      "    return HTML(styles)\n",
      "css_styling()"
     ],
     "language": "python",
     "metadata": {},
     "outputs": [
      {
       "html": [
        "<style>\n",
        "    @font-face {\n",
        "        font-family: \"Computer Modern\";\n",
        "        src: url('http://9dbb143991406a7c655e-aa5fcb0a5a4ec34cff238a2d56ca4144.r56.cf5.rackcdn.com/cmunss.otf');\n",
        "    }\n",
        "    @font-face {\n",
        "        font-family: \"Computer Modern\";\n",
        "        font-weight: bold;\n",
        "        src: url('http://9dbb143991406a7c655e-aa5fcb0a5a4ec34cff238a2d56ca4144.r56.cf5.rackcdn.com/cmunsx.otf');\n",
        "    }\n",
        "    @font-face {\n",
        "        font-family: \"Computer Modern\";\n",
        "        font-style: oblique;\n",
        "        src: url('http://9dbb143991406a7c655e-aa5fcb0a5a4ec34cff238a2d56ca4144.r56.cf5.rackcdn.com/cmunsi.otf');\n",
        "    }\n",
        "    @font-face {\n",
        "        font-family: \"Computer Modern\";\n",
        "        font-weight: bold;\n",
        "        font-style: oblique;\n",
        "        src: url('http://9dbb143991406a7c655e-aa5fcb0a5a4ec34cff238a2d56ca4144.r56.cf5.rackcdn.com/cmunso.otf');\n",
        "    }\n",
        "    div.cell{\n",
        "        width:800px;\n",
        "        margin-left:16% !important;\n",
        "        margin-right:auto;\n",
        "    }\n",
        "    h1 {\n",
        "        font-family: Helvetica, serif;\n",
        "        color: #B40431;\n",
        "    }\n",
        "    h4{\n",
        "        margin-top:12px;\n",
        "        margin-bottom: 3px;\n",
        "       }\n",
        "    div.text_cell_render{\n",
        "        font-family: Computer Modern, \"Helvetica Neue\", Arial, Helvetica, Geneva, sans-serif;\n",
        "        line-height: 145%;\n",
        "        font-size: 130%;\n",
        "        width:800px;\n",
        "        margin-left:auto;\n",
        "        margin-right:auto;\n",
        "    }\n",
        "    .CodeMirror{\n",
        "            font-family: \"Source Code Pro\", source-code-pro,Consolas, monospace;\n",
        "    }\n",
        "    .prompt{\n",
        "        display: None;\n",
        "    }\n",
        "    .text_cell_render h5 {\n",
        "        font-weight: 300;\n",
        "        font-size: 22pt;\n",
        "        color: #4057A1;\n",
        "        font-style: italic;\n",
        "        margin-bottom: .5em;\n",
        "        margin-top: 0.5em;\n",
        "        display: block;\n",
        "    }\n",
        "    \n",
        "    .warning{\n",
        "        color: rgb( 240, 20, 20 )\n",
        "        }  \n",
        "</style>\n",
        "<script>\n",
        "    MathJax.Hub.Config({\n",
        "                        TeX: {\n",
        "                           extensions: [\"AMSmath.js\"]\n",
        "                           },\n",
        "                tex2jax: {\n",
        "                    inlineMath: [ ['$','$'], [\"\\\\(\",\"\\\\)\"] ],\n",
        "                    displayMath: [ ['$$','$$'], [\"\\\\[\",\"\\\\]\"] ]\n",
        "                },\n",
        "                displayAlign: 'center', // Change this to 'center' to center equations.\n",
        "                \"HTML-CSS\": {\n",
        "                    styles: {'.MathJax_Display': {\"margin\": 4}}\n",
        "                }\n",
        "        });\n",
        "</script>\n"
       ],
       "metadata": {},
       "output_type": "pyout",
       "prompt_number": 133,
       "text": [
        "<IPython.core.display.HTML at 0x18afe2e8>"
       ]
      }
     ],
     "prompt_number": 133
    }
   ],
   "metadata": {}
  }
 ]
}