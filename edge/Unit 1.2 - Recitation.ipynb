{
 "metadata": {
  "name": "",
  "signature": "sha256:b0bf01b5b86f2066484aca8d7937435e603bc769862d6c9317a2645caf90f3a7"
 },
 "nbformat": 3,
 "nbformat_minor": 0,
 "worksheets": [
  {
   "cells": [
    {
     "cell_type": "code",
     "collapsed": false,
     "input": [
      "# Setting up things\n",
      "%matplotlib inline\n",
      "import pandas as pd\n",
      "import numpy as np"
     ],
     "language": "python",
     "metadata": {},
     "outputs": [],
     "prompt_number": 1
    },
    {
     "cell_type": "heading",
     "level": 2,
     "metadata": {},
     "source": [
      "Reading in the data "
     ]
    },
    {
     "cell_type": "code",
     "collapsed": false,
     "input": [
      "# Read the file\n",
      "USDA = pd.read_csv(\"../data/USDA.csv\")\n",
      "\n",
      "# Structure of the data\n",
      "USDA.dtypes\n"
     ],
     "language": "python",
     "metadata": {},
     "outputs": [
      {
       "metadata": {},
       "output_type": "pyout",
       "prompt_number": 2,
       "text": [
        "ID                int64\n",
        "Description      object\n",
        "Calories        float64\n",
        "Protein         float64\n",
        "TotalFat        float64\n",
        "Carbohydrate    float64\n",
        "Sodium          float64\n",
        "SaturatedFat    float64\n",
        "Cholesterol     float64\n",
        "Sugar           float64\n",
        "Calcium         float64\n",
        "Iron            float64\n",
        "Potassium       float64\n",
        "VitaminC        float64\n",
        "VitaminE        float64\n",
        "VitaminD        float64\n",
        "dtype: object"
       ]
      }
     ],
     "prompt_number": 2
    },
    {
     "cell_type": "code",
     "collapsed": false,
     "input": [
      "# Statistical Summary of the data\n",
      "USDA.describe()"
     ],
     "language": "python",
     "metadata": {},
     "outputs": [
      {
       "html": [
        "<div style=\"max-height:1000px;max-width:1500px;overflow:auto;\">\n",
        "<table border=\"1\" class=\"dataframe\">\n",
        "  <thead>\n",
        "    <tr style=\"text-align: right;\">\n",
        "      <th></th>\n",
        "      <th>ID</th>\n",
        "      <th>Calories</th>\n",
        "      <th>Protein</th>\n",
        "      <th>TotalFat</th>\n",
        "      <th>Carbohydrate</th>\n",
        "      <th>Sodium</th>\n",
        "      <th>SaturatedFat</th>\n",
        "      <th>Cholesterol</th>\n",
        "      <th>Sugar</th>\n",
        "      <th>Calcium</th>\n",
        "      <th>Iron</th>\n",
        "      <th>Potassium</th>\n",
        "      <th>VitaminC</th>\n",
        "      <th>VitaminE</th>\n",
        "      <th>VitaminD</th>\n",
        "    </tr>\n",
        "  </thead>\n",
        "  <tbody>\n",
        "    <tr>\n",
        "      <th>count</th>\n",
        "      <td>  7058.000000</td>\n",
        "      <td> 7057.000000</td>\n",
        "      <td> 7057.000000</td>\n",
        "      <td> 7057.000000</td>\n",
        "      <td> 7057.000000</td>\n",
        "      <td>  6974.000000</td>\n",
        "      <td> 6757.000000</td>\n",
        "      <td> 6770.000000</td>\n",
        "      <td> 5148.000000</td>\n",
        "      <td> 6922.000000</td>\n",
        "      <td> 6935.000000</td>\n",
        "      <td>  6649.000000</td>\n",
        "      <td> 6726.000000</td>\n",
        "      <td> 4338.000000</td>\n",
        "      <td> 4224.000000</td>\n",
        "    </tr>\n",
        "    <tr>\n",
        "      <th>mean</th>\n",
        "      <td> 14259.821196</td>\n",
        "      <td>  219.695338</td>\n",
        "      <td>   11.710368</td>\n",
        "      <td>   10.320614</td>\n",
        "      <td>   20.697860</td>\n",
        "      <td>   322.059220</td>\n",
        "      <td>    3.452267</td>\n",
        "      <td>   41.551994</td>\n",
        "      <td>    8.256540</td>\n",
        "      <td>   73.530627</td>\n",
        "      <td>    2.828368</td>\n",
        "      <td>   301.357949</td>\n",
        "      <td>    9.435980</td>\n",
        "      <td>    1.487462</td>\n",
        "      <td>    0.576918</td>\n",
        "    </tr>\n",
        "    <tr>\n",
        "      <th>std</th>\n",
        "      <td>  8577.179705</td>\n",
        "      <td>  172.198755</td>\n",
        "      <td>   10.919356</td>\n",
        "      <td>   16.814191</td>\n",
        "      <td>   27.630443</td>\n",
        "      <td>  1045.416931</td>\n",
        "      <td>    6.921267</td>\n",
        "      <td>  122.963028</td>\n",
        "      <td>   15.361509</td>\n",
        "      <td>  222.445338</td>\n",
        "      <td>    6.019878</td>\n",
        "      <td>   415.638949</td>\n",
        "      <td>   71.256536</td>\n",
        "      <td>    5.386914</td>\n",
        "      <td>    4.301147</td>\n",
        "    </tr>\n",
        "    <tr>\n",
        "      <th>min</th>\n",
        "      <td>  1001.000000</td>\n",
        "      <td>    0.000000</td>\n",
        "      <td>    0.000000</td>\n",
        "      <td>    0.000000</td>\n",
        "      <td>    0.000000</td>\n",
        "      <td>     0.000000</td>\n",
        "      <td>    0.000000</td>\n",
        "      <td>    0.000000</td>\n",
        "      <td>    0.000000</td>\n",
        "      <td>    0.000000</td>\n",
        "      <td>    0.000000</td>\n",
        "      <td>     0.000000</td>\n",
        "      <td>    0.000000</td>\n",
        "      <td>    0.000000</td>\n",
        "      <td>    0.000000</td>\n",
        "    </tr>\n",
        "    <tr>\n",
        "      <th>25%</th>\n",
        "      <td>  8387.250000</td>\n",
        "      <td>   85.000000</td>\n",
        "      <td>    2.290000</td>\n",
        "      <td>    0.720000</td>\n",
        "      <td>    0.000000</td>\n",
        "      <td>    37.000000</td>\n",
        "      <td>    0.172000</td>\n",
        "      <td>    0.000000</td>\n",
        "      <td>    0.000000</td>\n",
        "      <td>    9.000000</td>\n",
        "      <td>    0.520000</td>\n",
        "      <td>   135.000000</td>\n",
        "      <td>    0.000000</td>\n",
        "      <td>    0.120000</td>\n",
        "      <td>    0.000000</td>\n",
        "    </tr>\n",
        "    <tr>\n",
        "      <th>50%</th>\n",
        "      <td> 13293.500000</td>\n",
        "      <td>  181.000000</td>\n",
        "      <td>    8.200000</td>\n",
        "      <td>    4.370000</td>\n",
        "      <td>    7.130000</td>\n",
        "      <td>    79.000000</td>\n",
        "      <td>    1.256000</td>\n",
        "      <td>    3.000000</td>\n",
        "      <td>    1.395000</td>\n",
        "      <td>   19.000000</td>\n",
        "      <td>    1.330000</td>\n",
        "      <td>   250.000000</td>\n",
        "      <td>    0.000000</td>\n",
        "      <td>    0.270000</td>\n",
        "      <td>    0.000000</td>\n",
        "    </tr>\n",
        "    <tr>\n",
        "      <th>75%</th>\n",
        "      <td> 18336.750000</td>\n",
        "      <td>  331.000000</td>\n",
        "      <td>   20.430000</td>\n",
        "      <td>   12.700000</td>\n",
        "      <td>   28.170000</td>\n",
        "      <td>   386.000000</td>\n",
        "      <td>    4.028000</td>\n",
        "      <td>   69.000000</td>\n",
        "      <td>    7.875000</td>\n",
        "      <td>   56.000000</td>\n",
        "      <td>    2.620000</td>\n",
        "      <td>   348.000000</td>\n",
        "      <td>    3.100000</td>\n",
        "      <td>    0.710000</td>\n",
        "      <td>    0.100000</td>\n",
        "    </tr>\n",
        "    <tr>\n",
        "      <th>max</th>\n",
        "      <td> 93600.000000</td>\n",
        "      <td>  902.000000</td>\n",
        "      <td>   88.320000</td>\n",
        "      <td>  100.000000</td>\n",
        "      <td>  100.000000</td>\n",
        "      <td> 38758.000000</td>\n",
        "      <td>   95.600000</td>\n",
        "      <td> 3100.000000</td>\n",
        "      <td>   99.800000</td>\n",
        "      <td> 7364.000000</td>\n",
        "      <td>  123.600000</td>\n",
        "      <td> 16500.000000</td>\n",
        "      <td> 2400.000000</td>\n",
        "      <td>  149.400000</td>\n",
        "      <td>  250.000000</td>\n",
        "    </tr>\n",
        "  </tbody>\n",
        "</table>\n",
        "</div>"
       ],
       "metadata": {},
       "output_type": "pyout",
       "prompt_number": 3,
       "text": [
        "                 ID     Calories      Protein     TotalFat  Carbohydrate  \\\n",
        "count   7058.000000  7057.000000  7057.000000  7057.000000   7057.000000   \n",
        "mean   14259.821196   219.695338    11.710368    10.320614     20.697860   \n",
        "std     8577.179705   172.198755    10.919356    16.814191     27.630443   \n",
        "min     1001.000000     0.000000     0.000000     0.000000      0.000000   \n",
        "25%     8387.250000    85.000000     2.290000     0.720000      0.000000   \n",
        "50%    13293.500000   181.000000     8.200000     4.370000      7.130000   \n",
        "75%    18336.750000   331.000000    20.430000    12.700000     28.170000   \n",
        "max    93600.000000   902.000000    88.320000   100.000000    100.000000   \n",
        "\n",
        "             Sodium  SaturatedFat  Cholesterol        Sugar      Calcium  \\\n",
        "count   6974.000000   6757.000000  6770.000000  5148.000000  6922.000000   \n",
        "mean     322.059220      3.452267    41.551994     8.256540    73.530627   \n",
        "std     1045.416931      6.921267   122.963028    15.361509   222.445338   \n",
        "min        0.000000      0.000000     0.000000     0.000000     0.000000   \n",
        "25%       37.000000      0.172000     0.000000     0.000000     9.000000   \n",
        "50%       79.000000      1.256000     3.000000     1.395000    19.000000   \n",
        "75%      386.000000      4.028000    69.000000     7.875000    56.000000   \n",
        "max    38758.000000     95.600000  3100.000000    99.800000  7364.000000   \n",
        "\n",
        "              Iron     Potassium     VitaminC     VitaminE     VitaminD  \n",
        "count  6935.000000   6649.000000  6726.000000  4338.000000  4224.000000  \n",
        "mean      2.828368    301.357949     9.435980     1.487462     0.576918  \n",
        "std       6.019878    415.638949    71.256536     5.386914     4.301147  \n",
        "min       0.000000      0.000000     0.000000     0.000000     0.000000  \n",
        "25%       0.520000    135.000000     0.000000     0.120000     0.000000  \n",
        "50%       1.330000    250.000000     0.000000     0.270000     0.000000  \n",
        "75%       2.620000    348.000000     3.100000     0.710000     0.100000  \n",
        "max     123.600000  16500.000000  2400.000000   149.400000   250.000000  "
       ]
      }
     ],
     "prompt_number": 3
    },
    {
     "cell_type": "heading",
     "level": 2,
     "metadata": {},
     "source": [
      "Basic Data Analysis"
     ]
    },
    {
     "cell_type": "code",
     "collapsed": false,
     "input": [
      "# Accessing a column using name\n",
      "USDA[\"Sodium\"]"
     ],
     "language": "python",
     "metadata": {},
     "outputs": [
      {
       "metadata": {},
       "output_type": "pyout",
       "prompt_number": 4,
       "text": [
        "0      714\n",
        "1      827\n",
        "2        2\n",
        "3     1395\n",
        "4      560\n",
        "5      629\n",
        "6      842\n",
        "7      690\n",
        "8      621\n",
        "9      700\n",
        "10     604\n",
        "11     364\n",
        "12     344\n",
        "13     330\n",
        "14     330\n",
        "...\n",
        "7043    1297\n",
        "7044    1435\n",
        "7045    2838\n",
        "7046       2\n",
        "7047      12\n",
        "7048       0\n",
        "7049    3326\n",
        "7050    1765\n",
        "7051    4250\n",
        "7052      29\n",
        "7053      58\n",
        "7054    4450\n",
        "7055     667\n",
        "7056      70\n",
        "7057      68\n",
        "Name: Sodium, Length: 7058, dtype: float64"
       ]
      }
     ],
     "prompt_number": 4
    },
    {
     "cell_type": "code",
     "collapsed": false,
     "input": [
      "# Finding the index of the food with highest sodium levels\n",
      "USDA[\"Sodium\"].idxmax()"
     ],
     "language": "python",
     "metadata": {},
     "outputs": [
      {
       "metadata": {},
       "output_type": "pyout",
       "prompt_number": 5,
       "text": [
        "264"
       ]
      }
     ],
     "prompt_number": 5
    },
    {
     "cell_type": "code",
     "collapsed": false,
     "input": [
      "# Get the name of the food with highest sodium levels\n",
      "USDA[\"Description\"][264]"
     ],
     "language": "python",
     "metadata": {},
     "outputs": [
      {
       "metadata": {},
       "output_type": "pyout",
       "prompt_number": 6,
       "text": [
        "'SALT,TABLE'"
       ]
      }
     ],
     "prompt_number": 6
    },
    {
     "cell_type": "code",
     "collapsed": false,
     "input": [
      "# Create a subset of the foods with sodium content above 10,000mg\n",
      "HighSodium = USDA[USDA[\"Sodium\"] > 10000]\n",
      "\n",
      "# Count the number of rows, or observations, including NANs\n",
      "print \"Number of rows in HighSodium subset: \", len(HighSodium.index)\n",
      "\n",
      "# Output names of the foods with high sodium content\n",
      "print HighSodium[\"Description\"]"
     ],
     "language": "python",
     "metadata": {},
     "outputs": [
      {
       "output_type": "stream",
       "stream": "stdout",
       "text": [
        "Number of rows in HighSodium subset:  10\n",
        "264                                            SALT,TABLE\n",
        "921                     SOUP,BF BROTH OR BOUILLON,PDR,DRY\n",
        "922                             SOUP,BEEF BROTH,CUBED,DRY\n",
        "924                      SOUP,CHICK BROTH OR BOUILLON,DRY\n",
        "925                            SOUP,CHICK BROTH CUBES,DRY\n",
        "937                                      GRAVY,AU JUS,DRY\n",
        "1302                                         ADOBO FRESCO\n",
        "5320    LEAVENING AGENTS,BAKING PDR,DOUBLE-ACTING,NA A...\n",
        "5323                         LEAVENING AGENTS,BAKING SODA\n",
        "5697                      DESSERTS,RENNIN,TABLETS,UNSWTND\n",
        "Name: Description, dtype: object\n"
       ]
      }
     ],
     "prompt_number": 7
    },
    {
     "cell_type": "code",
     "collapsed": false,
     "input": [
      "# Finding the index of CAVIAR in the dataset\n",
      "  #match(\"CAVIAR\", USDA$Description)\n",
      "print USDA[USDA[\"Description\"]== \"CAVIAR\"].index\n",
      "\n",
      "# Find amount of sodium in caviar\n",
      "print USDA[\"Sodium\"][4153]\n",
      "\n",
      "# Doing it in one command!\n",
      "print \"Doing it all:  \", USDA[\"Sodium\"][USDA[\"Description\"]== \"CAVIAR\"]"
     ],
     "language": "python",
     "metadata": {},
     "outputs": [
      {
       "output_type": "stream",
       "stream": "stdout",
       "text": [
        "Int64Index([4153], dtype='int64')\n",
        "1500.0\n",
        "Doing it all:   4153    1500\n",
        "Name: Sodium, dtype: float64\n"
       ]
      }
     ],
     "prompt_number": 8
    },
    {
     "cell_type": "heading",
     "level": 3,
     "metadata": {},
     "source": [
      "Summary of the Sodium Data"
     ]
    },
    {
     "cell_type": "code",
     "collapsed": false,
     "input": [
      "USDA[\"Sodium\"].describe()"
     ],
     "language": "python",
     "metadata": {},
     "outputs": [
      {
       "metadata": {},
       "output_type": "pyout",
       "prompt_number": 9,
       "text": [
        "count     6974.000000\n",
        "mean       322.059220\n",
        "std       1045.416931\n",
        "min          0.000000\n",
        "25%         37.000000\n",
        "50%         79.000000\n",
        "75%        386.000000\n",
        "max      38758.000000\n",
        "Name: Sodium, dtype: float64"
       ]
      }
     ],
     "prompt_number": 9
    },
    {
     "cell_type": "code",
     "collapsed": false,
     "input": [
      "# Standard Deviation alone\n",
      "USDA[\"Sodium\"].std()"
     ],
     "language": "python",
     "metadata": {},
     "outputs": [
      {
       "metadata": {},
       "output_type": "pyout",
       "prompt_number": 10,
       "text": [
        "1045.4169311578753"
       ]
      }
     ],
     "prompt_number": 10
    },
    {
     "cell_type": "heading",
     "level": 2,
     "metadata": {},
     "source": [
      "Visualization"
     ]
    },
    {
     "cell_type": "heading",
     "level": 3,
     "metadata": {},
     "source": [
      "Scatterplots"
     ]
    },
    {
     "cell_type": "code",
     "collapsed": false,
     "input": [
      "USDA.plot(kind='scatter', x='Protein', y='TotalFat')"
     ],
     "language": "python",
     "metadata": {},
     "outputs": [
      {
       "metadata": {},
       "output_type": "pyout",
       "prompt_number": 11,
       "text": [
        "<matplotlib.axes._subplots.AxesSubplot at 0xc2e2f98>"
       ]
      },
      {
       "metadata": {},
       "output_type": "display_data",
       "png": "[encoded data removed]",
       "text": [
        "<matplotlib.figure.Figure at 0x39716d8>"
       ]
      }
     ],
     "prompt_number": 11
    },
    {
     "cell_type": "code",
     "collapsed": false,
     "input": [
      "from ggplot import *\n",
      "ggplot(USDA, aes(x='Protein', y='TotalFat')) +\\\n",
      "    geom_point()"
     ],
     "language": "python",
     "metadata": {},
     "outputs": [
      {
       "metadata": {},
       "output_type": "display_data",
       "png": "[encoded data removed]",
       "text": [
        "<matplotlib.figure.Figure at 0x1c2980b8>"
       ]
      },
      {
       "metadata": {},
       "output_type": "pyout",
       "prompt_number": 12,
       "text": [
        "<ggplot: (29529316)>"
       ]
      }
     ],
     "prompt_number": 12
    },
    {
     "cell_type": "heading",
     "level": 3,
     "metadata": {},
     "source": [
      "Histograms"
     ]
    },
    {
     "cell_type": "code",
     "collapsed": false,
     "input": [
      "ggplot(USDA, aes(x='VitaminC')) +\\\n",
      "    geom_histogram()"
     ],
     "language": "python",
     "metadata": {},
     "outputs": [
      {
       "output_type": "stream",
       "stream": "stderr",
       "text": [
        "stat_bin: binwidth defaulted to range/30.\n",
        "    Use 'binwidth = x' to adjust this.\n",
        "D:\\Anaconda\\lib\\site-packages\\pandas\\util\\decorators.py:81: FutureWarning: the 'rows' keyword is deprecated, use 'index' instead\n",
        "  warnings.warn(msg, FutureWarning)\n"
       ]
      },
      {
       "metadata": {},
       "output_type": "display_data",
       "png": "[encoded data removed]",
       "text": [
        "<matplotlib.figure.Figure at 0x1c7bc780>"
       ]
      },
      {
       "metadata": {},
       "output_type": "pyout",
       "prompt_number": 13,
       "text": [
        "<ggplot: (12630301)>"
       ]
      }
     ],
     "prompt_number": 13
    },
    {
     "cell_type": "code",
     "collapsed": false,
     "input": [
      "ggplot(USDA, aes(x='VitaminC')) +\\\n",
      "    geom_histogram(binwidth=2) +\\\n",
      "    xlim(0,100)"
     ],
     "language": "python",
     "metadata": {},
     "outputs": [
      {
       "metadata": {},
       "output_type": "display_data",
       "png": "[encoded data removed]",
       "text": [
        "<matplotlib.figure.Figure at 0x1c809128>"
       ]
      },
      {
       "metadata": {},
       "output_type": "pyout",
       "prompt_number": 16,
       "text": [
        "<ggplot: (12677608)>"
       ]
      }
     ],
     "prompt_number": 16
    },
    {
     "cell_type": "heading",
     "level": 3,
     "metadata": {},
     "source": [
      "Boxplots"
     ]
    },
    {
     "cell_type": "code",
     "collapsed": false,
     "input": [
      "USDA.boxplot(column='Sugar')"
     ],
     "language": "python",
     "metadata": {},
     "outputs": [
      {
       "metadata": {},
       "output_type": "pyout",
       "prompt_number": 28,
       "text": [
        "{'boxes': [<matplotlib.lines.Line2D at 0x2420a940>],\n",
        " 'caps': [<matplotlib.lines.Line2D at 0x2421a630>,\n",
        "  <matplotlib.lines.Line2D at 0x2421aba8>],\n",
        " 'fliers': [<matplotlib.lines.Line2D at 0x242256d8>],\n",
        " 'means': [],\n",
        " 'medians': [<matplotlib.lines.Line2D at 0x24225160>],\n",
        " 'whiskers': [<matplotlib.lines.Line2D at 0x2420aa90>,\n",
        "  <matplotlib.lines.Line2D at 0x2421a0b8>]}"
       ]
      },
      {
       "metadata": {},
       "output_type": "display_data",
       "png": "[encoded data removed]",
       "text": [
        "<matplotlib.figure.Figure at 0x240302e8>"
       ]
      }
     ],
     "prompt_number": 28
    },
    {
     "cell_type": "heading",
     "level": 2,
     "metadata": {},
     "source": [
      "Creating new data & Contigency Tables"
     ]
    },
    {
     "cell_type": "code",
     "collapsed": false,
     "input": [
      "# Creating a variable that takes value 1 if the food has higher sodium than average, 0 otherwise\n",
      "USDA['HighSodium'] = (USDA['Sodium'] > USDA['Sodium'].mean()).astype(int)\n",
      "USDA['HighSodium'].value_counts()"
     ],
     "language": "python",
     "metadata": {},
     "outputs": [
      {
       "metadata": {},
       "output_type": "pyout",
       "prompt_number": 57,
       "text": [
        "0    4968\n",
        "1    2090\n",
        "dtype: int64"
       ]
      }
     ],
     "prompt_number": 57
    },
    {
     "cell_type": "code",
     "collapsed": false,
     "input": [
      "# Creating a variable that takes value 1 if the food has higher fat than average, 0 otherwise\n",
      "USDA['HighFat'] = (USDA['TotalFat'] > USDA['TotalFat'].mean()).astype(int)\n",
      "USDA['HighFat'].value_counts()"
     ],
     "language": "python",
     "metadata": {},
     "outputs": [
      {
       "metadata": {},
       "output_type": "pyout",
       "prompt_number": 58,
       "text": [
        "0    4974\n",
        "1    2084\n",
        "dtype: int64"
       ]
      }
     ],
     "prompt_number": 58
    },
    {
     "cell_type": "code",
     "collapsed": false,
     "input": [
      "# Table foods high in fat and high in sodium\n",
      "pd.crosstab(USDA['HighSodium'], USDA['HighFat'],margins=True)\n"
     ],
     "language": "python",
     "metadata": {},
     "outputs": [
      {
       "html": [
        "<div style=\"max-height:1000px;max-width:1500px;overflow:auto;\">\n",
        "<table border=\"1\" class=\"dataframe\">\n",
        "  <thead>\n",
        "    <tr style=\"text-align: right;\">\n",
        "      <th>HighFat</th>\n",
        "      <th>0</th>\n",
        "      <th>1</th>\n",
        "      <th>All</th>\n",
        "    </tr>\n",
        "    <tr>\n",
        "      <th>HighSodium</th>\n",
        "      <th></th>\n",
        "      <th></th>\n",
        "      <th></th>\n",
        "    </tr>\n",
        "  </thead>\n",
        "  <tbody>\n",
        "    <tr>\n",
        "      <th>0</th>\n",
        "      <td> 3596</td>\n",
        "      <td> 1372</td>\n",
        "      <td> 4968</td>\n",
        "    </tr>\n",
        "    <tr>\n",
        "      <th>1</th>\n",
        "      <td> 1378</td>\n",
        "      <td>  712</td>\n",
        "      <td> 2090</td>\n",
        "    </tr>\n",
        "    <tr>\n",
        "      <th>All</th>\n",
        "      <td> 4974</td>\n",
        "      <td> 2084</td>\n",
        "      <td> 7058</td>\n",
        "    </tr>\n",
        "  </tbody>\n",
        "</table>\n",
        "</div>"
       ],
       "metadata": {},
       "output_type": "pyout",
       "prompt_number": 66,
       "text": [
        "HighFat        0     1   All\n",
        "HighSodium                  \n",
        "0           3596  1372  4968\n",
        "1           1378   712  2090\n",
        "All         4974  2084  7058"
       ]
      }
     ],
     "prompt_number": 66
    },
    {
     "cell_type": "code",
     "collapsed": false,
     "input": [],
     "language": "python",
     "metadata": {},
     "outputs": []
    }
   ],
   "metadata": {}
  }
 ]
}